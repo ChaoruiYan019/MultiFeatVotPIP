{
 "cells": [
  {
   "cell_type": "code",
   "execution_count": 1,
   "id": "e2c6296b-bcd0-434d-88e2-54fb4c0fe6b4",
   "metadata": {},
   "outputs": [],
   "source": [
    "import torch\n",
    "import torch.nn as nn\n",
    "import torch.optim as optim\n",
    "from sklearn.feature_extraction.text import TfidfVectorizer\n",
    "from sklearn.model_selection import train_test_split\n",
    "from sklearn.metrics import confusion_matrix, accuracy_score, matthews_corrcoef\n",
    "import matplotlib.pyplot as plt\n",
    "import seaborn as sns\n",
    "import pandas as pd\n",
    "from torch_geometric.data import Data\n",
    "from sklearn.preprocessing import LabelEncoder\n",
    "from torch_geometric.nn import GCNConv\n",
    "import torch_geometric.transforms as T"
   ]
  },
  {
   "cell_type": "code",
   "execution_count": 2,
   "id": "4bf119e7-f043-4aea-8955-ab99073be041",
   "metadata": {},
   "outputs": [],
   "source": [
    "# Load datasets\n",
    "X_train = pd.read_csv(\"X_train.csv\")  # Peptide sequences\n",
    "train_labels = pd.read_csv(\"label_train.csv\")  # Corresponding labels\n",
    "\n",
    "# Combine features and labels\n",
    "train_data = pd.concat([X_train, train_labels], axis=1)\n",
    "train_data.columns = ['peptide_sequence', 'label']\n",
    "\n",
    "# Load test data\n",
    "X_test = pd.read_csv(\"X_test.csv\")\n",
    "test_labels = pd.read_csv(\"label_test.csv\")\n",
    "test_data = pd.concat([X_test, test_labels], axis=1)\n",
    "test_data.columns = ['peptide_sequence', 'label']"
   ]
  },
  {
   "cell_type": "code",
   "execution_count": 3,
   "id": "207ee798-c081-467d-a9f8-d8a8f965a2d2",
   "metadata": {},
   "outputs": [],
   "source": [
    "# TF-IDF feature extraction (monogram and bigram)\n",
    "tfidf_vectorizer = TfidfVectorizer(analyzer='char', ngram_range=(1, 2))\n",
    "X_train = tfidf_vectorizer.fit_transform(train_data['peptide_sequence'])\n",
    "X_test = tfidf_vectorizer.transform(test_data['peptide_sequence'])\n",
    "y_train = train_data['label']\n",
    "y_test = test_data['label']"
   ]
  },
  {
   "cell_type": "code",
   "execution_count": 4,
   "id": "d45e630f-5e2f-4962-95db-210332f96112",
   "metadata": {},
   "outputs": [
    {
     "name": "stdout",
     "output_type": "stream",
     "text": [
      "Train TF-IDF shape: (2872, 420)\n",
      "Test TF-IDF shape: (342, 420)\n"
     ]
    }
   ],
   "source": [
    "# Check shapes\n",
    "print(f\"Train TF-IDF shape: {X_train.shape}\")\n",
    "print(f\"Test TF-IDF shape: {X_test.shape}\")"
   ]
  },
  {
   "cell_type": "code",
   "execution_count": 5,
   "id": "fd2ff970-2629-4efc-b9f6-ab95c735ab65",
   "metadata": {},
   "outputs": [],
   "source": [
    "# Label encoding\n",
    "label_encoder = LabelEncoder()\n",
    "y_train_encoded = label_encoder.fit_transform(y_train)\n",
    "y_test_encoded = label_encoder.transform(y_test)"
   ]
  },
  {
   "cell_type": "code",
   "execution_count": 6,
   "id": "75574d22-8189-4e21-8830-8ae091b5ddb8",
   "metadata": {},
   "outputs": [],
   "source": [
    "# Create PyTorch Geometric data from TF-IDF matrix (convert to sparse tensor)\n",
    "def create_graph_data(X, y):\n",
    "    edge_index = torch.tensor([[], []], dtype=torch.long)  # Placeholder for graph edges\n",
    "    x = torch.tensor(X.toarray(), dtype=torch.float32)    # Feature matrix\n",
    "    y = torch.tensor(y, dtype=torch.long)                # Labels\n",
    "    data = Data(x=x, edge_index=edge_index, y=y)\n",
    "    return data\n",
    "\n",
    "train_data_graph = create_graph_data(X_train, y_train_encoded)\n",
    "test_data_graph = create_graph_data(X_test, y_test_encoded)"
   ]
  },
  {
   "cell_type": "code",
   "execution_count": 7,
   "id": "770995c7-7bd4-4f4a-b57b-8a232f646b7a",
   "metadata": {},
   "outputs": [],
   "source": [
    "# Define the Graph Neural Network (GNN) model using GCNConv\n",
    "class GNNModel(nn.Module):\n",
    "    def __init__(self, input_dim, hidden_dim, output_dim):\n",
    "        super(GNNModel, self).__init__()\n",
    "        self.conv1 = GCNConv(input_dim, hidden_dim)\n",
    "        self.conv2 = GCNConv(hidden_dim, output_dim)\n",
    "        self.fc = nn.Linear(output_dim, 2)  # Binary classification (Proinflammatory or not)\n",
    "        \n",
    "    def forward(self, data):\n",
    "        x, edge_index = data.x, data.edge_index\n",
    "        x = self.conv1(x, edge_index)\n",
    "        x = torch.relu(x)\n",
    "        x = self.conv2(x, edge_index)\n",
    "        x = torch.relu(x)\n",
    "        x = self.fc(x)\n",
    "        return x"
   ]
  },
  {
   "cell_type": "code",
   "execution_count": 8,
   "id": "8ffa5484-e607-43ab-a3ff-2028a967d4a3",
   "metadata": {},
   "outputs": [],
   "source": [
    "# Model parameters\n",
    "input_dim = X_train.shape[1]  # Number of features\n",
    "hidden_dim = 64\n",
    "output_dim = 32\n",
    "\n",
    "# Initialize model, optimizer, and loss function\n",
    "model = GNNModel(input_dim=input_dim, hidden_dim=hidden_dim, output_dim=output_dim)\n",
    "optimizer = optim.Adam(model.parameters(), lr=0.01)\n",
    "loss_fn = nn.CrossEntropyLoss()\n",
    "\n",
    "# Training the model\n",
    "def train(model, data, optimizer, loss_fn):\n",
    "    model.train()\n",
    "    optimizer.zero_grad()\n",
    "    output = model(data)\n",
    "    loss = loss_fn(output, data.y)\n",
    "    loss.backward()\n",
    "    optimizer.step()\n",
    "    return loss.item()"
   ]
  },
  {
   "cell_type": "code",
   "execution_count": 9,
   "id": "295a40e0-97bc-4ed4-b1cf-ae25eed692fb",
   "metadata": {},
   "outputs": [
    {
     "name": "stdout",
     "output_type": "stream",
     "text": [
      "Epoch 10/50, Loss: 0.6198\n",
      "Epoch 20/50, Loss: 0.5173\n",
      "Epoch 30/50, Loss: 0.3051\n",
      "Epoch 40/50, Loss: 0.0833\n",
      "Epoch 50/50, Loss: 0.0181\n"
     ]
    }
   ],
   "source": [
    "# Training loop\n",
    "num_epochs = 50\n",
    "train_losses = []\n",
    "\n",
    "for epoch in range(num_epochs):\n",
    "    loss = train(model, train_data_graph, optimizer, loss_fn)\n",
    "    train_losses.append(loss)\n",
    "    if (epoch + 1) % 10 == 0:\n",
    "        print(f\"Epoch {epoch+1}/{num_epochs}, Loss: {loss:.4f}\")\n",
    "\n",
    "# Testing the model\n",
    "def test(model, data):\n",
    "    model.eval()\n",
    "    with torch.no_grad():\n",
    "        output = model(data)\n",
    "        pred = output.argmax(dim=1)\n",
    "    return pred"
   ]
  },
  {
   "cell_type": "code",
   "execution_count": 10,
   "id": "6125cada-1a5f-4fc9-b7b5-9ab6a95cf75b",
   "metadata": {},
   "outputs": [
    {
     "data": {
      "image/png": "[encoded data removed]",
      "text/plain": [
       "<Figure size 640x480 with 2 Axes>"
      ]
     },
     "metadata": {},
     "output_type": "display_data"
    }
   ],
   "source": [
    "# Test the model\n",
    "y_test_pred = test(model, test_data_graph)\n",
    "accuracy_test = accuracy_score(y_test_encoded, y_test_pred)\n",
    "mcc_test = matthews_corrcoef(y_test_encoded, y_test_pred)\n",
    "\n",
    "# Confusion Matrix\n",
    "cm = confusion_matrix(y_test_encoded, y_test_pred)\n",
    "sns.heatmap(cm, annot=True, fmt='d', cmap='Blues')\n",
    "plt.xlabel(\"Predicted\")\n",
    "plt.ylabel(\"True\")\n",
    "plt.title(\"Confusion Matrix\")\n",
    "plt.show()"
   ]
  },
  {
   "cell_type": "code",
   "execution_count": 11,
   "id": "e190ddf6-5e9a-424f-9913-02363a8b7570",
   "metadata": {},
   "outputs": [
    {
     "name": "stdout",
     "output_type": "stream",
     "text": [
      "Test Accuracy: 0.5877192982456141\n",
      "Test MCC: 0.18311756258961903\n"
     ]
    },
    {
     "data": {
      "image/png": "[encoded data removed]",
      "text/plain": [
       "<Figure size 640x480 with 1 Axes>"
      ]
     },
     "metadata": {},
     "output_type": "display_data"
    }
   ],
   "source": [
    "print(f\"Test Accuracy: {accuracy_test}\")\n",
    "print(f\"Test MCC: {mcc_test}\")\n",
    "\n",
    "# Plot training loss\n",
    "plt.plot(train_losses, label='Training Loss')\n",
    "plt.xlabel('Epochs')\n",
    "plt.ylabel('Loss')\n",
    "plt.legend()\n",
    "plt.show()"
   ]
  },
  {
   "cell_type": "code",
   "execution_count": 13,
   "id": "3b2e6456-6130-408a-8298-f42eabba474b",
   "metadata": {},
   "outputs": [
    {
     "name": "stdout",
     "output_type": "stream",
     "text": [
      "Sample Sequence: AALALLLLDRLNQLESKMS\n",
      "True Label: 1 (Proinflammatory)\n",
      "Predicted Label: 1 (Proinflammatory)\n"
     ]
    }
   ],
   "source": [
    "# Example prediction for a sample peptide\n",
    "sample_index = 55  # Change this to test other samples\n",
    "sample_sequence = test_data.iloc[sample_index]['peptide_sequence']\n",
    "sample_label = test_data.iloc[sample_index]['label']\n",
    "\n",
    "# Transform the sample using the TF-IDF vectorizer\n",
    "sample_vector = tfidf_vectorizer.transform([sample_sequence])\n",
    "\n",
    "# Create a graph for the sample\n",
    "sample_data = create_graph_data(sample_vector, label_encoder.transform([sample_label]))\n",
    "\n",
    "# Predict the sample\n",
    "sample_pred = test(model, sample_data)\n",
    "sample_pred_label = label_encoder.inverse_transform([sample_pred.item()])[0]\n",
    "\n",
    "print(f\"Sample Sequence: {sample_sequence}\")\n",
    "print(f\"True Label: {sample_label} ({'Proinflammatory' if sample_label == 1 else 'Non-Proinflammatory'})\")\n",
    "print(f\"Predicted Label: {sample_pred_label} ({'Proinflammatory' if sample_pred_label == 1 else 'Non-Proinflammatory'})\")"
   ]
  },
  {
   "cell_type": "code",
   "execution_count": null,
   "id": "d95913db-4617-46ce-8801-5594ca34fa5e",
   "metadata": {},
   "outputs": [],
   "source": []
  }
 ],
 "metadata": {
  "kernelspec": {
   "display_name": "Python 3 (ipykernel)",
   "language": "python",
   "name": "python3"
  },
  "language_info": {
   "codemirror_mode": {
    "name": "ipython",
    "version": 3
   },
   "file_extension": ".py",
   "mimetype": "text/x-python",
   "name": "python",
   "nbconvert_exporter": "python",
   "pygments_lexer": "ipython3",
   "version": "3.11.7"
  }
 },
 "nbformat": 4,
 "nbformat_minor": 5
}
