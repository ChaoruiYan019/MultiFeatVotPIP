{
 "cells": [
  {
   "cell_type": "markdown",
   "id": "852de75a-8741-4a9f-a2e0-4798a48c32a3",
   "metadata": {},
   "source": [
    "# Step 1: Load and Combine Data"
   ]
  },
  {
   "cell_type": "code",
   "execution_count": 1,
   "id": "773b32a1-7573-4efd-80a2-fd413aa2f9f0",
   "metadata": {},
   "outputs": [],
   "source": [
    "import pandas as pd\n",
    "\n",
    "# Load datasets\n",
    "X_train = pd.read_csv(\"X_train.csv\")  # Peptide sequences\n",
    "train_labels = pd.read_csv(\"label_train.csv\")  # Corresponding labels\n",
    "\n",
    "# Combine features and labels\n",
    "train_data = pd.concat([X_train, train_labels], axis=1)\n",
    "train_data.columns = ['peptide_sequence', 'label']\n",
    "\n",
    "# Load test data\n",
    "X_test = pd.read_csv(\"X_test.csv\")\n",
    "test_labels = pd.read_csv(\"label_test.csv\")\n",
    "test_data = pd.concat([X_test, test_labels], axis=1)\n",
    "test_data.columns = ['peptide_sequence', 'label']"
   ]
  },
  {
   "cell_type": "code",
   "execution_count": 2,
   "id": "55d437f4-e883-49df-b631-0f5b09d611b8",
   "metadata": {},
   "outputs": [
    {
     "data": {
      "text/html": [
       "<div>\n",
       "<style scoped>\n",
       "    .dataframe tbody tr th:only-of-type {\n",
       "        vertical-align: middle;\n",
       "    }\n",
       "\n",
       "    .dataframe tbody tr th {\n",
       "        vertical-align: top;\n",
       "    }\n",
       "\n",
       "    .dataframe thead th {\n",
       "        text-align: right;\n",
       "    }\n",
       "</style>\n",
       "<table border=\"1\" class=\"dataframe\">\n",
       "  <thead>\n",
       "    <tr style=\"text-align: right;\">\n",
       "      <th></th>\n",
       "      <th>peptide_sequence</th>\n",
       "      <th>label</th>\n",
       "    </tr>\n",
       "  </thead>\n",
       "  <tbody>\n",
       "    <tr>\n",
       "      <th>0</th>\n",
       "      <td>DDRHKIVNVDQRQYG</td>\n",
       "      <td>1</td>\n",
       "    </tr>\n",
       "    <tr>\n",
       "      <th>1</th>\n",
       "      <td>EGNRPTNSIVFTKLT</td>\n",
       "      <td>1</td>\n",
       "    </tr>\n",
       "    <tr>\n",
       "      <th>2</th>\n",
       "      <td>TRQGGYSNDNTVIFR</td>\n",
       "      <td>1</td>\n",
       "    </tr>\n",
       "    <tr>\n",
       "      <th>3</th>\n",
       "      <td>LHGETFPYTAFDNNC</td>\n",
       "      <td>1</td>\n",
       "    </tr>\n",
       "    <tr>\n",
       "      <th>4</th>\n",
       "      <td>VMALEPVVGAAIAAP</td>\n",
       "      <td>1</td>\n",
       "    </tr>\n",
       "  </tbody>\n",
       "</table>\n",
       "</div>"
      ],
      "text/plain": [
       "  peptide_sequence  label\n",
       "0  DDRHKIVNVDQRQYG      1\n",
       "1  EGNRPTNSIVFTKLT      1\n",
       "2  TRQGGYSNDNTVIFR      1\n",
       "3  LHGETFPYTAFDNNC      1\n",
       "4  VMALEPVVGAAIAAP      1"
      ]
     },
     "execution_count": 2,
     "metadata": {},
     "output_type": "execute_result"
    }
   ],
   "source": [
    "train_data.head()"
   ]
  },
  {
   "cell_type": "code",
   "execution_count": 3,
   "id": "40029ac6-2c58-4f0b-978e-1e106588ad8d",
   "metadata": {},
   "outputs": [
    {
     "data": {
      "text/plain": [
       "2872"
      ]
     },
     "execution_count": 3,
     "metadata": {},
     "output_type": "execute_result"
    }
   ],
   "source": [
    "len(train_data)"
   ]
  },
  {
   "cell_type": "code",
   "execution_count": 4,
   "id": "85a66acf-e967-45c1-9780-a2ebcba99210",
   "metadata": {},
   "outputs": [
    {
     "data": {
      "text/html": [
       "<div>\n",
       "<style scoped>\n",
       "    .dataframe tbody tr th:only-of-type {\n",
       "        vertical-align: middle;\n",
       "    }\n",
       "\n",
       "    .dataframe tbody tr th {\n",
       "        vertical-align: top;\n",
       "    }\n",
       "\n",
       "    .dataframe thead th {\n",
       "        text-align: right;\n",
       "    }\n",
       "</style>\n",
       "<table border=\"1\" class=\"dataframe\">\n",
       "  <thead>\n",
       "    <tr style=\"text-align: right;\">\n",
       "      <th></th>\n",
       "      <th>peptide_sequence</th>\n",
       "      <th>label</th>\n",
       "    </tr>\n",
       "  </thead>\n",
       "  <tbody>\n",
       "    <tr>\n",
       "      <th>0</th>\n",
       "      <td>TPETLFEIGSVSKTFTAT</td>\n",
       "      <td>1.0</td>\n",
       "    </tr>\n",
       "    <tr>\n",
       "      <th>1</th>\n",
       "      <td>HPGNTILHVDTIYNRPSNTT</td>\n",
       "      <td>1.0</td>\n",
       "    </tr>\n",
       "    <tr>\n",
       "      <th>2</th>\n",
       "      <td>YWAGIEFDVTHKGMALLHRL</td>\n",
       "      <td>1.0</td>\n",
       "    </tr>\n",
       "    <tr>\n",
       "      <th>3</th>\n",
       "      <td>EQGLLYMPQELAVSD</td>\n",
       "      <td>1.0</td>\n",
       "    </tr>\n",
       "    <tr>\n",
       "      <th>4</th>\n",
       "      <td>GARGFFQARHLEMDA</td>\n",
       "      <td>1.0</td>\n",
       "    </tr>\n",
       "  </tbody>\n",
       "</table>\n",
       "</div>"
      ],
      "text/plain": [
       "       peptide_sequence  label\n",
       "0    TPETLFEIGSVSKTFTAT    1.0\n",
       "1  HPGNTILHVDTIYNRPSNTT    1.0\n",
       "2  YWAGIEFDVTHKGMALLHRL    1.0\n",
       "3       EQGLLYMPQELAVSD    1.0\n",
       "4       GARGFFQARHLEMDA    1.0"
      ]
     },
     "execution_count": 4,
     "metadata": {},
     "output_type": "execute_result"
    }
   ],
   "source": [
    "test_data.head()"
   ]
  },
  {
   "cell_type": "code",
   "execution_count": 5,
   "id": "670b255a-aaf7-4cee-9d45-6ff44c5a6942",
   "metadata": {},
   "outputs": [
    {
     "data": {
      "text/plain": [
       "342"
      ]
     },
     "execution_count": 5,
     "metadata": {},
     "output_type": "execute_result"
    }
   ],
   "source": [
    "len(test_data)"
   ]
  },
  {
   "cell_type": "markdown",
   "id": "d43ebb13-bf28-4165-9dec-e26bb2d204aa",
   "metadata": {},
   "source": [
    "# Step 2: TF-IDF Vectorization"
   ]
  },
  {
   "cell_type": "code",
   "execution_count": 6,
   "id": "5def6a5b-5856-4c63-865a-e7ef02061299",
   "metadata": {},
   "outputs": [
    {
     "name": "stdout",
     "output_type": "stream",
     "text": [
      "TF-IDF feature matrix shape: (2872, 2872)\n"
     ]
    }
   ],
   "source": [
    "from sklearn.feature_extraction.text import TfidfVectorizer\n",
    "\n",
    "# Initialize TF-IDF vectorizer for unigrams and bigrams\n",
    "vectorizer = TfidfVectorizer(ngram_range=(1, 2))  # Monogram and bigram\n",
    "\n",
    "# Transform training and test data\n",
    "X_train_tfidf = vectorizer.fit_transform(train_data['peptide_sequence'])\n",
    "X_test_tfidf = vectorizer.transform(test_data['peptide_sequence'])\n",
    "\n",
    "print(f\"TF-IDF feature matrix shape: {X_train_tfidf.shape}\")"
   ]
  },
  {
   "cell_type": "markdown",
   "id": "cb1de11b-85d0-445e-84ff-19db08946dcc",
   "metadata": {},
   "source": [
    "# Step 3: Graph Neural Network (GNN)\n",
    "**To use a GNN, we need to construct a graph representation from the TF-IDF vectors. This includes:**\n",
    "\n",
    "1. Building a similarity graph between samples (e.g., k-nearest neighbors).\n",
    "2. Training a GNN on this graph.\n",
    "3. Build a Graph Representation\n",
    "\n",
    "cosine similarity is used to create edges between samples based on TF-IDF features. "
   ]
  },
  {
   "cell_type": "code",
   "execution_count": 7,
   "id": "a73e1c60-8391-4e04-abd3-402084cba527",
   "metadata": {},
   "outputs": [],
   "source": [
    "import numpy as np\n",
    "from sklearn.metrics.pairwise import cosine_similarity\n",
    "from scipy.sparse import csr_matrix\n",
    "\n",
    "# Create a cosine similarity matrix for the training data\n",
    "similarity_matrix = cosine_similarity(X_train_tfidf)\n",
    "\n",
    "# Threshold to create edges (e.g., top-k or similarity > 0.5)\n",
    "threshold = 0.5\n",
    "edges = np.argwhere(similarity_matrix > threshold)\n",
    "edges = edges[edges[:, 0] != edges[:, 1]]  # Remove self-loops\n"
   ]
  },
  {
   "cell_type": "code",
   "execution_count": 8,
   "id": "2e25eaaa-fd01-4364-b458-b76aed966006",
   "metadata": {},
   "outputs": [],
   "source": [
    "import torch\n",
    "from torch_geometric.data import Data\n",
    "from torch_geometric.nn import GCNConv\n",
    "from sklearn.preprocessing import LabelEncoder\n",
    "\n",
    "# Convert data to PyTorch tensors\n",
    "edge_index = torch.tensor(edges.T, dtype=torch.long)  # Edge list\n",
    "X_train_tensor = torch.tensor(X_train_tfidf.toarray(), dtype=torch.float)\n",
    "y_train_tensor = torch.tensor(LabelEncoder().fit_transform(train_data['label']), dtype=torch.long)\n",
    "\n",
    "# Create a PyTorch Geometric Data object\n",
    "data = Data(x=X_train_tensor, edge_index=edge_index, y=y_train_tensor)\n",
    "\n",
    "# Define a simple GNN model\n",
    "class GNN(torch.nn.Module):\n",
    "    def __init__(self, input_dim, hidden_dim, output_dim):\n",
    "        super(GNN, self).__init__()\n",
    "        self.conv1 = GCNConv(input_dim, hidden_dim)\n",
    "        self.conv2 = GCNConv(hidden_dim, output_dim)\n",
    "\n",
    "    def forward(self, data):\n",
    "        x, edge_index = data.x, data.edge_index\n",
    "        x = self.conv1(x, edge_index).relu()\n",
    "        x = self.conv2(x, edge_index)\n",
    "        return x\n",
    "\n",
    "# Instantiate the model\n",
    "input_dim = X_train_tensor.shape[1]\n",
    "hidden_dim = 64\n",
    "output_dim = len(train_data['label'].unique())\n",
    "model = GNN(input_dim, hidden_dim, output_dim)"
   ]
  },
  {
   "cell_type": "markdown",
   "id": "4fb5e06e-95fc-40ce-9e43-3387a2017c4c",
   "metadata": {},
   "source": [
    "# Step 4: Train the GNN"
   ]
  },
  {
   "cell_type": "code",
   "execution_count": 9,
   "id": "8f8f5c53-eeb3-436a-abc2-422c7af9a1d8",
   "metadata": {},
   "outputs": [
    {
     "name": "stdout",
     "output_type": "stream",
     "text": [
      "Epoch 1, Loss: 0.6933659911155701\n",
      "Epoch 2, Loss: 0.6600182056427002\n",
      "Epoch 3, Loss: 0.6246525049209595\n",
      "Epoch 4, Loss: 0.5829913020133972\n",
      "Epoch 5, Loss: 0.5357642769813538\n",
      "Epoch 6, Loss: 0.48325589299201965\n",
      "Epoch 7, Loss: 0.42768189311027527\n",
      "Epoch 8, Loss: 0.37066134810447693\n",
      "Epoch 9, Loss: 0.3130836486816406\n",
      "Epoch 10, Loss: 0.25654491782188416\n",
      "Epoch 11, Loss: 0.2038552165031433\n",
      "Epoch 12, Loss: 0.15764416754245758\n",
      "Epoch 13, Loss: 0.11878563463687897\n",
      "Epoch 14, Loss: 0.08758443593978882\n",
      "Epoch 15, Loss: 0.06355208903551102\n",
      "Epoch 16, Loss: 0.045610152184963226\n",
      "Epoch 17, Loss: 0.03252970427274704\n",
      "Epoch 18, Loss: 0.023171400651335716\n",
      "Epoch 19, Loss: 0.016561947762966156\n",
      "Epoch 20, Loss: 0.011925702914595604\n"
     ]
    }
   ],
   "source": [
    "import torch.optim as optim\n",
    "from torch_geometric.loader import DataLoader\n",
    "\n",
    "# DataLoader for batching (optional, depending on dataset size)\n",
    "loader = DataLoader([data], batch_size=32, shuffle=True)\n",
    "\n",
    "# Define optimizer and loss\n",
    "optimizer = optim.Adam(model.parameters(), lr=0.01)\n",
    "criterion = torch.nn.CrossEntropyLoss()\n",
    "\n",
    "# Training loop\n",
    "model.train()\n",
    "for epoch in range(20):\n",
    "    for batch in loader:\n",
    "        optimizer.zero_grad()\n",
    "        out = model(batch)\n",
    "        loss = criterion(out, batch.y)\n",
    "        loss.backward()\n",
    "        optimizer.step()\n",
    "    print(f\"Epoch {epoch + 1}, Loss: {loss.item()}\")\n"
   ]
  },
  {
   "cell_type": "markdown",
   "id": "5feb5bb1-59c2-46bf-9abe-f8bca8227a88",
   "metadata": {},
   "source": [
    "# Step 5: Evaluate the GNN"
   ]
  },
  {
   "cell_type": "code",
   "execution_count": 10,
   "id": "216f4832-6708-4e8a-8a2c-13c99947ece9",
   "metadata": {},
   "outputs": [],
   "source": [
    "from scipy.sparse import csr_matrix\n",
    "from sklearn.metrics.pairwise import cosine_similarity\n",
    "import numpy as np\n",
    "\n",
    "# Create a cosine similarity graph for the test data\n",
    "test_similarity_matrix = cosine_similarity(X_test_tfidf)\n",
    "\n",
    "# Threshold to create edges (e.g., similarity > 0.5)\n",
    "test_edges = np.argwhere(test_similarity_matrix > 0.5)\n",
    "test_edges = test_edges[test_edges[:, 0] != test_edges[:, 1]]  # Remove self-loops\n",
    "\n",
    "# Convert to PyTorch tensor\n",
    "test_edge_index = torch.tensor(test_edges.T, dtype=torch.long)\n",
    "\n",
    "# Create test Data object for PyTorch Geometric\n",
    "test_tensor = torch.tensor(X_test_tfidf.toarray(), dtype=torch.float)\n",
    "test_y_tensor = torch.tensor(test_data['label'].values, dtype=torch.long)\n",
    "test_graph = Data(x=test_tensor, edge_index=test_edge_index, y=test_y_tensor)\n"
   ]
  },
  {
   "cell_type": "code",
   "execution_count": 11,
   "id": "f21f8854-d6a7-46f1-85aa-f6ba16ea3942",
   "metadata": {},
   "outputs": [],
   "source": [
    "# Evaluate model on test data\n",
    "model.eval()\n",
    "with torch.no_grad():\n",
    "    test_output = model(test_graph)\n",
    "    test_predictions = test_output.argmax(dim=1).cpu().numpy()"
   ]
  },
  {
   "cell_type": "code",
   "execution_count": 12,
   "id": "b556d291-281f-4e25-b98d-bf8130fe0220",
   "metadata": {},
   "outputs": [
    {
     "data": {
      "text/html": [
       "<div>\n",
       "<style scoped>\n",
       "    .dataframe tbody tr th:only-of-type {\n",
       "        vertical-align: middle;\n",
       "    }\n",
       "\n",
       "    .dataframe tbody tr th {\n",
       "        vertical-align: top;\n",
       "    }\n",
       "\n",
       "    .dataframe thead th {\n",
       "        text-align: right;\n",
       "    }\n",
       "</style>\n",
       "<table border=\"1\" class=\"dataframe\">\n",
       "  <thead>\n",
       "    <tr style=\"text-align: right;\">\n",
       "      <th></th>\n",
       "      <th>peptide_sequence</th>\n",
       "      <th>label</th>\n",
       "    </tr>\n",
       "  </thead>\n",
       "  <tbody>\n",
       "    <tr>\n",
       "      <th>0</th>\n",
       "      <td>TPETLFEIGSVSKTFTAT</td>\n",
       "      <td>1.0</td>\n",
       "    </tr>\n",
       "    <tr>\n",
       "      <th>1</th>\n",
       "      <td>HPGNTILHVDTIYNRPSNTT</td>\n",
       "      <td>1.0</td>\n",
       "    </tr>\n",
       "    <tr>\n",
       "      <th>2</th>\n",
       "      <td>YWAGIEFDVTHKGMALLHRL</td>\n",
       "      <td>1.0</td>\n",
       "    </tr>\n",
       "    <tr>\n",
       "      <th>3</th>\n",
       "      <td>EQGLLYMPQELAVSD</td>\n",
       "      <td>1.0</td>\n",
       "    </tr>\n",
       "    <tr>\n",
       "      <th>4</th>\n",
       "      <td>GARGFFQARHLEMDA</td>\n",
       "      <td>1.0</td>\n",
       "    </tr>\n",
       "    <tr>\n",
       "      <th>...</th>\n",
       "      <td>...</td>\n",
       "      <td>...</td>\n",
       "    </tr>\n",
       "    <tr>\n",
       "      <th>337</th>\n",
       "      <td>FKRALGARSKQPPPR</td>\n",
       "      <td>0.0</td>\n",
       "    </tr>\n",
       "    <tr>\n",
       "      <th>338</th>\n",
       "      <td>ESDCDWLVNASNPGH</td>\n",
       "      <td>0.0</td>\n",
       "    </tr>\n",
       "    <tr>\n",
       "      <th>339</th>\n",
       "      <td>QWFYDGYPTFGQHPETS</td>\n",
       "      <td>0.0</td>\n",
       "    </tr>\n",
       "    <tr>\n",
       "      <th>340</th>\n",
       "      <td>QLKLQTRVYMKLKHVRAW</td>\n",
       "      <td>0.0</td>\n",
       "    </tr>\n",
       "    <tr>\n",
       "      <th>341</th>\n",
       "      <td>FRFTPFKQAVKETCA</td>\n",
       "      <td>NaN</td>\n",
       "    </tr>\n",
       "  </tbody>\n",
       "</table>\n",
       "<p>342 rows × 2 columns</p>\n",
       "</div>"
      ],
      "text/plain": [
       "         peptide_sequence  label\n",
       "0      TPETLFEIGSVSKTFTAT    1.0\n",
       "1    HPGNTILHVDTIYNRPSNTT    1.0\n",
       "2    YWAGIEFDVTHKGMALLHRL    1.0\n",
       "3         EQGLLYMPQELAVSD    1.0\n",
       "4         GARGFFQARHLEMDA    1.0\n",
       "..                    ...    ...\n",
       "337       FKRALGARSKQPPPR    0.0\n",
       "338       ESDCDWLVNASNPGH    0.0\n",
       "339     QWFYDGYPTFGQHPETS    0.0\n",
       "340    QLKLQTRVYMKLKHVRAW    0.0\n",
       "341       FRFTPFKQAVKETCA    NaN\n",
       "\n",
       "[342 rows x 2 columns]"
      ]
     },
     "execution_count": 12,
     "metadata": {},
     "output_type": "execute_result"
    }
   ],
   "source": [
    "test_data"
   ]
  },
  {
   "cell_type": "code",
   "execution_count": 13,
   "id": "120fe6da-e0db-4c7a-9497-6587e1562619",
   "metadata": {},
   "outputs": [
    {
     "data": {
      "text/plain": [
       "array([0, 0, 0, 0, 0, 0, 0, 0, 0, 0, 0, 0, 0, 0, 0, 0, 0, 0, 0, 0, 0, 0,\n",
       "       0, 0, 0, 0, 0, 0, 0, 0, 0, 0, 0, 0, 0, 0, 0, 0, 0, 0, 0, 0, 0, 0,\n",
       "       0, 0, 0, 0, 0, 0, 0, 0, 0, 0, 0, 0, 0, 0, 0, 0, 0, 0, 0, 0, 0, 0,\n",
       "       0, 0, 0, 0, 0, 0, 0, 0, 0, 0, 0, 0, 0, 0, 0, 0, 0, 0, 0, 0, 0, 0,\n",
       "       0, 0, 0, 0, 0, 0, 0, 0, 0, 0, 0, 0, 0, 0, 0, 0, 0, 0, 0, 0, 0, 0,\n",
       "       0, 0, 0, 0, 0, 0, 0, 0, 0, 0, 0, 0, 0, 0, 0, 0, 0, 0, 0, 0, 0, 0,\n",
       "       0, 0, 0, 0, 0, 0, 0, 0, 0, 0, 0, 0, 0, 0, 0, 0, 0, 0, 0, 0, 0, 0,\n",
       "       0, 0, 0, 0, 0, 0, 0, 0, 0, 0, 0, 0, 0, 0, 0, 0, 0, 0, 0, 0, 0, 0,\n",
       "       0, 0, 0, 0, 0, 0, 0, 0, 0, 0, 0, 0, 0, 0, 0, 0, 0, 0, 0, 0, 0, 0,\n",
       "       0, 0, 0, 0, 0, 0, 0, 0, 0, 0, 0, 0, 0, 0, 0, 0, 0, 0, 0, 0, 0, 0,\n",
       "       0, 0, 0, 0, 0, 0, 0, 0, 0, 0, 0, 0, 0, 0, 0, 0, 0, 0, 0, 0, 0, 0,\n",
       "       0, 0, 0, 0, 0, 0, 0, 0, 0, 0, 0, 0, 0, 0, 0, 0, 0, 0, 0, 0, 0, 0,\n",
       "       0, 0, 0, 0, 0, 0, 0, 0, 0, 0, 0, 0, 0, 0, 0, 0, 0, 0, 0, 0, 0, 0,\n",
       "       0, 0, 0, 0, 0, 0, 0, 0, 0, 0, 0, 0, 0, 0, 0, 0, 0, 0, 0, 0, 0, 0,\n",
       "       0, 0, 0, 0, 0, 0, 0, 0, 0, 0, 0, 0, 0, 0, 0, 0, 0, 0, 0, 0, 0, 0,\n",
       "       0, 0, 0, 0, 0, 0, 0, 0, 0, 0, 0, 0], dtype=int64)"
      ]
     },
     "execution_count": 13,
     "metadata": {},
     "output_type": "execute_result"
    }
   ],
   "source": [
    "test_predictions"
   ]
  },
  {
   "cell_type": "code",
   "execution_count": 14,
   "id": "152bcab0-6f66-40d5-a4db-3fd5fc9234e8",
   "metadata": {},
   "outputs": [
    {
     "name": "stdout",
     "output_type": "stream",
     "text": [
      "342\n",
      "342\n"
     ]
    }
   ],
   "source": [
    "print(len(test_data['label']))  # Should print 342\n",
    "print(len(test_predictions))    # Should print 342"
   ]
  },
  {
   "cell_type": "code",
   "execution_count": 15,
   "id": "00e2c6e1-fc1b-41cf-932a-2d5eb7f5a706",
   "metadata": {},
   "outputs": [
    {
     "name": "stdout",
     "output_type": "stream",
     "text": [
      "342 342\n"
     ]
    }
   ],
   "source": [
    "print(len(test_data['label']), len(test_predictions))"
   ]
  },
  {
   "cell_type": "code",
   "execution_count": 16,
   "id": "8656e407-8559-44f4-bc28-2b7d0dc81bdb",
   "metadata": {},
   "outputs": [],
   "source": [
    "test_data['label'] = test_data['label'].fillna(0.0)"
   ]
  },
  {
   "cell_type": "code",
   "execution_count": 17,
   "id": "b9d8e896-6060-4584-b812-dc14ebf0a240",
   "metadata": {},
   "outputs": [
    {
     "name": "stdout",
     "output_type": "stream",
     "text": [
      "Confusion Matrix:\n",
      "[[172   0]\n",
      " [170   0]]\n",
      "Precision (weighted): 0.2529\n",
      "Recall (weighted): 0.5029\n",
      "\n",
      "Classification Report:\n",
      "              precision    recall  f1-score   support\n",
      "\n",
      "         0.0       0.50      1.00      0.67       172\n",
      "         1.0       0.00      0.00      0.00       170\n",
      "\n",
      "    accuracy                           0.50       342\n",
      "   macro avg       0.25      0.50      0.33       342\n",
      "weighted avg       0.25      0.50      0.34       342\n",
      "\n"
     ]
    },
    {
     "name": "stderr",
     "output_type": "stream",
     "text": [
      "C:\\ProgramData\\anaconda3\\Lib\\site-packages\\sklearn\\metrics\\_classification.py:1344: UndefinedMetricWarning: Precision is ill-defined and being set to 0.0 in labels with no predicted samples. Use `zero_division` parameter to control this behavior.\n",
      "  _warn_prf(average, modifier, msg_start, len(result))\n",
      "C:\\ProgramData\\anaconda3\\Lib\\site-packages\\sklearn\\metrics\\_classification.py:1344: UndefinedMetricWarning: Precision and F-score are ill-defined and being set to 0.0 in labels with no predicted samples. Use `zero_division` parameter to control this behavior.\n",
      "  _warn_prf(average, modifier, msg_start, len(result))\n",
      "C:\\ProgramData\\anaconda3\\Lib\\site-packages\\sklearn\\metrics\\_classification.py:1344: UndefinedMetricWarning: Precision and F-score are ill-defined and being set to 0.0 in labels with no predicted samples. Use `zero_division` parameter to control this behavior.\n",
      "  _warn_prf(average, modifier, msg_start, len(result))\n",
      "C:\\ProgramData\\anaconda3\\Lib\\site-packages\\sklearn\\metrics\\_classification.py:1344: UndefinedMetricWarning: Precision and F-score are ill-defined and being set to 0.0 in labels with no predicted samples. Use `zero_division` parameter to control this behavior.\n",
      "  _warn_prf(average, modifier, msg_start, len(result))\n"
     ]
    }
   ],
   "source": [
    "from sklearn.metrics import confusion_matrix, precision_score, recall_score, classification_report\n",
    "\n",
    "# Calculate metrics\n",
    "cm = confusion_matrix(test_data['label'], test_predictions)\n",
    "precision = precision_score(test_data['label'], test_predictions, average='weighted')\n",
    "recall = recall_score(test_data['label'], test_predictions, average='weighted')\n",
    "\n",
    "# Print metrics\n",
    "print(\"Confusion Matrix:\")\n",
    "print(cm)\n",
    "print(f\"Precision (weighted): {precision:.4f}\")\n",
    "print(f\"Recall (weighted): {recall:.4f}\")\n",
    "\n",
    "# Classification Report\n",
    "print(\"\\nClassification Report:\")\n",
    "print(classification_report(test_data['label'], test_predictions))"
   ]
  },
  {
   "cell_type": "code",
   "execution_count": 18,
   "id": "17038501-307c-4857-aa5d-9ba85a655425",
   "metadata": {},
   "outputs": [
    {
     "data": {
      "image/png": "[encoded data removed]",
      "text/plain": [
       "<Figure size 1000x700 with 2 Axes>"
      ]
     },
     "metadata": {},
     "output_type": "display_data"
    }
   ],
   "source": [
    "import seaborn as sns\n",
    "import matplotlib.pyplot as plt\n",
    "import numpy as np\n",
    "from sklearn.metrics import confusion_matrix\n",
    "\n",
    "# Calculate confusion matrix\n",
    "cm = confusion_matrix(test_data['label'], test_predictions)\n",
    "\n",
    "# Create a heatmap of the confusion matrix\n",
    "plt.figure(figsize=(10, 7))\n",
    "sns.heatmap(cm, annot=True, fmt='d', cmap='Blues', xticklabels=np.unique(test_data['label']),\n",
    "            yticklabels=np.unique(test_data['label']))\n",
    "\n",
    "# Add labels and title\n",
    "plt.title(\"Confusion Matrix\")\n",
    "plt.xlabel(\"Predicted Labels\")\n",
    "plt.ylabel(\"True Labels\")\n",
    "\n",
    "# Display the plot\n",
    "plt.show()"
   ]
  },
  {
   "cell_type": "code",
   "execution_count": 19,
   "id": "2a69d71b-81eb-45f1-871f-e0b0a077eb0a",
   "metadata": {},
   "outputs": [
    {
     "name": "stdout",
     "output_type": "stream",
     "text": [
      "Matthews Correlation Coefficient (MCC): 0.0000\n"
     ]
    }
   ],
   "source": [
    "from sklearn.metrics import matthews_corrcoef\n",
    "\n",
    "# Calculate the Matthews Correlation Coefficient (MCC)\n",
    "mcc = matthews_corrcoef(test_data['label'], test_predictions)\n",
    "\n",
    "# Print the MCC score\n",
    "print(f\"Matthews Correlation Coefficient (MCC): {mcc:.4f}\")"
   ]
  },
  {
   "cell_type": "code",
   "execution_count": 20,
   "id": "92bb21d6-305d-401d-b19f-9a89c2830506",
   "metadata": {},
   "outputs": [
    {
     "name": "stdout",
     "output_type": "stream",
     "text": [
      "Sample Text: TPETLFEIGSVSKTFTAT\n"
     ]
    }
   ],
   "source": [
    "sample_index = 0  # Example: picking the first sample from the test set\n",
    "sample_text = test_data.iloc[sample_index]['peptide_sequence']  # Access the sample's text\n",
    "\n",
    "# Display the sample text (optional)\n",
    "print(f\"Sample Text: {sample_text}\")"
   ]
  },
  {
   "cell_type": "code",
   "execution_count": 24,
   "id": "e6be0c71-c998-402d-8e1a-b3132cd7dd1d",
   "metadata": {},
   "outputs": [
    {
     "data": {
      "text/html": [
       "<style>#sk-container-id-1 {color: black;background-color: white;}#sk-container-id-1 pre{padding: 0;}#sk-container-id-1 div.sk-toggleable {background-color: white;}#sk-container-id-1 label.sk-toggleable__label {cursor: pointer;display: block;width: 100%;margin-bottom: 0;padding: 0.3em;box-sizing: border-box;text-align: center;}#sk-container-id-1 label.sk-toggleable__label-arrow:before {content: \"▸\";float: left;margin-right: 0.25em;color: #696969;}#sk-container-id-1 label.sk-toggleable__label-arrow:hover:before {color: black;}#sk-container-id-1 div.sk-estimator:hover label.sk-toggleable__label-arrow:before {color: black;}#sk-container-id-1 div.sk-toggleable__content {max-height: 0;max-width: 0;overflow: hidden;text-align: left;background-color: #f0f8ff;}#sk-container-id-1 div.sk-toggleable__content pre {margin: 0.2em;color: black;border-radius: 0.25em;background-color: #f0f8ff;}#sk-container-id-1 input.sk-toggleable__control:checked~div.sk-toggleable__content {max-height: 200px;max-width: 100%;overflow: auto;}#sk-container-id-1 input.sk-toggleable__control:checked~label.sk-toggleable__label-arrow:before {content: \"▾\";}#sk-container-id-1 div.sk-estimator input.sk-toggleable__control:checked~label.sk-toggleable__label {background-color: #d4ebff;}#sk-container-id-1 div.sk-label input.sk-toggleable__control:checked~label.sk-toggleable__label {background-color: #d4ebff;}#sk-container-id-1 input.sk-hidden--visually {border: 0;clip: rect(1px 1px 1px 1px);clip: rect(1px, 1px, 1px, 1px);height: 1px;margin: -1px;overflow: hidden;padding: 0;position: absolute;width: 1px;}#sk-container-id-1 div.sk-estimator {font-family: monospace;background-color: #f0f8ff;border: 1px dotted black;border-radius: 0.25em;box-sizing: border-box;margin-bottom: 0.5em;}#sk-container-id-1 div.sk-estimator:hover {background-color: #d4ebff;}#sk-container-id-1 div.sk-parallel-item::after {content: \"\";width: 100%;border-bottom: 1px solid gray;flex-grow: 1;}#sk-container-id-1 div.sk-label:hover label.sk-toggleable__label {background-color: #d4ebff;}#sk-container-id-1 div.sk-serial::before {content: \"\";position: absolute;border-left: 1px solid gray;box-sizing: border-box;top: 0;bottom: 0;left: 50%;z-index: 0;}#sk-container-id-1 div.sk-serial {display: flex;flex-direction: column;align-items: center;background-color: white;padding-right: 0.2em;padding-left: 0.2em;position: relative;}#sk-container-id-1 div.sk-item {position: relative;z-index: 1;}#sk-container-id-1 div.sk-parallel {display: flex;align-items: stretch;justify-content: center;background-color: white;position: relative;}#sk-container-id-1 div.sk-item::before, #sk-container-id-1 div.sk-parallel-item::before {content: \"\";position: absolute;border-left: 1px solid gray;box-sizing: border-box;top: 0;bottom: 0;left: 50%;z-index: -1;}#sk-container-id-1 div.sk-parallel-item {display: flex;flex-direction: column;z-index: 1;position: relative;background-color: white;}#sk-container-id-1 div.sk-parallel-item:first-child::after {align-self: flex-end;width: 50%;}#sk-container-id-1 div.sk-parallel-item:last-child::after {align-self: flex-start;width: 50%;}#sk-container-id-1 div.sk-parallel-item:only-child::after {width: 0;}#sk-container-id-1 div.sk-dashed-wrapped {border: 1px dashed gray;margin: 0 0.4em 0.5em 0.4em;box-sizing: border-box;padding-bottom: 0.4em;background-color: white;}#sk-container-id-1 div.sk-label label {font-family: monospace;font-weight: bold;display: inline-block;line-height: 1.2em;}#sk-container-id-1 div.sk-label-container {text-align: center;}#sk-container-id-1 div.sk-container {/* jupyter's `normalize.less` sets `[hidden] { display: none; }` but bootstrap.min.css set `[hidden] { display: none !important; }` so we also need the `!important` here to be able to override the default hidden behavior on the sphinx rendered scikit-learn.org. See: https://github.com/scikit-learn/scikit-learn/issues/21755 */display: inline-block !important;position: relative;}#sk-container-id-1 div.sk-text-repr-fallback {display: none;}</style><div id=\"sk-container-id-1\" class=\"sk-top-container\"><div class=\"sk-text-repr-fallback\"><pre>TfidfVectorizer(ngram_range=(1, 2))</pre><b>In a Jupyter environment, please rerun this cell to show the HTML representation or trust the notebook. <br />On GitHub, the HTML representation is unable to render, please try loading this page with nbviewer.org.</b></div><div class=\"sk-container\" hidden><div class=\"sk-item\"><div class=\"sk-estimator sk-toggleable\"><input class=\"sk-toggleable__control sk-hidden--visually\" id=\"sk-estimator-id-1\" type=\"checkbox\" checked><label for=\"sk-estimator-id-1\" class=\"sk-toggleable__label sk-toggleable__label-arrow\">TfidfVectorizer</label><div class=\"sk-toggleable__content\"><pre>TfidfVectorizer(ngram_range=(1, 2))</pre></div></div></div></div></div>"
      ],
      "text/plain": [
       "TfidfVectorizer(ngram_range=(1, 2))"
      ]
     },
     "execution_count": 24,
     "metadata": {},
     "output_type": "execute_result"
    }
   ],
   "source": [
    "from sklearn.feature_extraction.text import TfidfVectorizer\n",
    "\n",
    "# Initialize the vectorizer\n",
    "tfidf_vectorizer = TfidfVectorizer(ngram_range=(1, 2))  # Monogram + Bigram\n",
    "\n",
    "# Fit the vectorizer on your training data text\n",
    "tfidf_vectorizer.fit(train_data['peptide_sequence'])  # Assuming 'text' column in the training data"
   ]
  },
  {
   "cell_type": "code",
   "execution_count": 25,
   "id": "16abc12a-8892-458d-8f17-30bda543a731",
   "metadata": {},
   "outputs": [
    {
     "ename": "AttributeError",
     "evalue": "'GNN' object has no attribute 'predict'",
     "output_type": "error",
     "traceback": [
      "\u001b[1;31m---------------------------------------------------------------------------\u001b[0m",
      "\u001b[1;31mAttributeError\u001b[0m                            Traceback (most recent call last)",
      "Cell \u001b[1;32mIn[25], line 5\u001b[0m\n\u001b[0;32m      2\u001b[0m sample_tfidf \u001b[38;5;241m=\u001b[39m tfidf_vectorizer\u001b[38;5;241m.\u001b[39mtransform([sample_text])  \u001b[38;5;66;03m# Transform the sample text\u001b[39;00m\n\u001b[0;32m      4\u001b[0m \u001b[38;5;66;03m# Predict the class for the sample using your trained model\u001b[39;00m\n\u001b[1;32m----> 5\u001b[0m sample_prediction \u001b[38;5;241m=\u001b[39m model\u001b[38;5;241m.\u001b[39mpredict(sample_tfidf)\n\u001b[0;32m      6\u001b[0m \u001b[38;5;28mprint\u001b[39m(\u001b[38;5;124mf\u001b[39m\u001b[38;5;124m\"\u001b[39m\u001b[38;5;124mPredicted label for the sample: \u001b[39m\u001b[38;5;132;01m{\u001b[39;00msample_prediction[\u001b[38;5;241m0\u001b[39m]\u001b[38;5;132;01m}\u001b[39;00m\u001b[38;5;124m\"\u001b[39m)\n",
      "File \u001b[1;32m~\\AppData\\Roaming\\Python\\Python311\\site-packages\\torch\\nn\\modules\\module.py:1931\u001b[0m, in \u001b[0;36mModule.__getattr__\u001b[1;34m(self, name)\u001b[0m\n\u001b[0;32m   1929\u001b[0m     \u001b[38;5;28;01mif\u001b[39;00m name \u001b[38;5;129;01min\u001b[39;00m modules:\n\u001b[0;32m   1930\u001b[0m         \u001b[38;5;28;01mreturn\u001b[39;00m modules[name]\n\u001b[1;32m-> 1931\u001b[0m \u001b[38;5;28;01mraise\u001b[39;00m \u001b[38;5;167;01mAttributeError\u001b[39;00m(\n\u001b[0;32m   1932\u001b[0m     \u001b[38;5;124mf\u001b[39m\u001b[38;5;124m\"\u001b[39m\u001b[38;5;124m'\u001b[39m\u001b[38;5;132;01m{\u001b[39;00m\u001b[38;5;28mtype\u001b[39m(\u001b[38;5;28mself\u001b[39m)\u001b[38;5;241m.\u001b[39m\u001b[38;5;18m__name__\u001b[39m\u001b[38;5;132;01m}\u001b[39;00m\u001b[38;5;124m'\u001b[39m\u001b[38;5;124m object has no attribute \u001b[39m\u001b[38;5;124m'\u001b[39m\u001b[38;5;132;01m{\u001b[39;00mname\u001b[38;5;132;01m}\u001b[39;00m\u001b[38;5;124m'\u001b[39m\u001b[38;5;124m\"\u001b[39m\n\u001b[0;32m   1933\u001b[0m )\n",
      "\u001b[1;31mAttributeError\u001b[0m: 'GNN' object has no attribute 'predict'"
     ]
    }
   ],
   "source": [
    "# Now, transform the sample text into TF-IDF features\n",
    "sample_tfidf = tfidf_vectorizer.transform([sample_text])  # Transform the sample text\n",
    "\n",
    "# Predict the class for the sample using your trained model\n",
    "sample_prediction = model.predict(sample_tfidf)\n",
    "print(f\"Predicted label for the sample: {sample_prediction[0]}\")"
   ]
  },
  {
   "cell_type": "code",
   "execution_count": null,
   "id": "d6b26796-73fe-47e4-b150-0ff1378fbcf2",
   "metadata": {},
   "outputs": [],
   "source": []
  }
 ],
 "metadata": {
  "kernelspec": {
   "display_name": "Python 3 (ipykernel)",
   "language": "python",
   "name": "python3"
  },
  "language_info": {
   "codemirror_mode": {
    "name": "ipython",
    "version": 3
   },
   "file_extension": ".py",
   "mimetype": "text/x-python",
   "name": "python",
   "nbconvert_exporter": "python",
   "pygments_lexer": "ipython3",
   "version": "3.11.7"
  }
 },
 "nbformat": 4,
 "nbformat_minor": 5
}
