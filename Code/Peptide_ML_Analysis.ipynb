{
 "cells": [
  {
   "cell_type": "code",
   "execution_count": 1,
   "id": "22d936d4-0392-45e6-b6f6-21259c3c2408",
   "metadata": {},
   "outputs": [],
   "source": [
    "import pandas as pd\n",
    "from sklearn.feature_extraction.text import TfidfVectorizer\n",
    "from sklearn.model_selection import train_test_split\n",
    "from sklearn.ensemble import RandomForestClassifier\n",
    "from sklearn.metrics import confusion_matrix, accuracy_score, matthews_corrcoef\n",
    "import matplotlib.pyplot as plt\n",
    "import seaborn as sns"
   ]
  },
  {
   "cell_type": "code",
   "execution_count": 2,
   "id": "fe6a5196-ba67-4a19-8799-a0907d1d9e92",
   "metadata": {},
   "outputs": [],
   "source": [
    "import pandas as pd\n",
    "\n",
    "# Load datasets\n",
    "X_train = pd.read_csv(\"X_train.csv\")  # Peptide sequences\n",
    "train_labels = pd.read_csv(\"label_train.csv\")  # Corresponding labels\n",
    "\n",
    "# Combine features and labels\n",
    "train_data = pd.concat([X_train, train_labels], axis=1)\n",
    "train_data.columns = ['peptide_sequence', 'label']\n",
    "\n",
    "# Load test data\n",
    "X_test = pd.read_csv(\"X_test.csv\")\n",
    "test_labels = pd.read_csv(\"label_test.csv\")\n",
    "test_data = pd.concat([X_test, test_labels], axis=1)\n",
    "test_data.columns = ['peptide_sequence', 'label']"
   ]
  },
  {
   "cell_type": "code",
   "execution_count": 3,
   "id": "1c7a9902-2069-495f-ba90-64f2ab573397",
   "metadata": {},
   "outputs": [
    {
     "name": "stdout",
     "output_type": "stream",
     "text": [
      "Train TF-IDF shape: (2872, 7429)\n",
      "Test TF-IDF shape: (342, 7429)\n"
     ]
    }
   ],
   "source": [
    "tfidf_vectorizer = TfidfVectorizer(analyzer='char', ngram_range=(1, 3))\n",
    "X_train = tfidf_vectorizer.fit_transform(train_data['peptide_sequence'])\n",
    "X_test = tfidf_vectorizer.transform(test_data['peptide_sequence'])\n",
    "y_train = train_data['label']\n",
    "y_test = test_data['label']\n",
    "# Check shapes\n",
    "print(f\"Train TF-IDF shape: {X_train.shape}\")\n",
    "print(f\"Test TF-IDF shape: {X_test.shape}\")"
   ]
  },
  {
   "cell_type": "code",
   "execution_count": 4,
   "id": "997c3d38-a14d-46e9-9ac1-f31c1d9e9159",
   "metadata": {},
   "outputs": [
    {
     "name": "stdout",
     "output_type": "stream",
     "text": [
      "TF-IDF Feature Matrix:\n",
      "             a        aa  aaa  aac  aad  aae  aaf  aag  aah       aai  ...  \\\n",
      "0     0.000000  0.000000  0.0  0.0  0.0  0.0  0.0  0.0  0.0  0.000000  ...   \n",
      "1     0.000000  0.000000  0.0  0.0  0.0  0.0  0.0  0.0  0.0  0.000000  ...   \n",
      "2     0.000000  0.000000  0.0  0.0  0.0  0.0  0.0  0.0  0.0  0.000000  ...   \n",
      "3     0.043705  0.000000  0.0  0.0  0.0  0.0  0.0  0.0  0.0  0.000000  ...   \n",
      "4     0.238305  0.221113  0.0  0.0  0.0  0.0  0.0  0.0  0.0  0.216515  ...   \n",
      "...        ...       ...  ...  ...  ...  ...  ...  ...  ...       ...  ...   \n",
      "2867  0.000000  0.000000  0.0  0.0  0.0  0.0  0.0  0.0  0.0  0.000000  ...   \n",
      "2868  0.043195  0.000000  0.0  0.0  0.0  0.0  0.0  0.0  0.0  0.000000  ...   \n",
      "2869  0.045168  0.000000  0.0  0.0  0.0  0.0  0.0  0.0  0.0  0.000000  ...   \n",
      "2870  0.000000  0.000000  0.0  0.0  0.0  0.0  0.0  0.0  0.0  0.000000  ...   \n",
      "2871  0.111352  0.000000  0.0  0.0  0.0  0.0  0.0  0.0  0.0  0.000000  ...   \n",
      "\n",
      "      yyi  yyk  yyl  yyn  yyp  yyr  yys  yyt  yyv  yyy  \n",
      "0     0.0  0.0  0.0  0.0  0.0  0.0  0.0  0.0  0.0  0.0  \n",
      "1     0.0  0.0  0.0  0.0  0.0  0.0  0.0  0.0  0.0  0.0  \n",
      "2     0.0  0.0  0.0  0.0  0.0  0.0  0.0  0.0  0.0  0.0  \n",
      "3     0.0  0.0  0.0  0.0  0.0  0.0  0.0  0.0  0.0  0.0  \n",
      "4     0.0  0.0  0.0  0.0  0.0  0.0  0.0  0.0  0.0  0.0  \n",
      "...   ...  ...  ...  ...  ...  ...  ...  ...  ...  ...  \n",
      "2867  0.0  0.0  0.0  0.0  0.0  0.0  0.0  0.0  0.0  0.0  \n",
      "2868  0.0  0.0  0.0  0.0  0.0  0.0  0.0  0.0  0.0  0.0  \n",
      "2869  0.0  0.0  0.0  0.0  0.0  0.0  0.0  0.0  0.0  0.0  \n",
      "2870  0.0  0.0  0.0  0.0  0.0  0.0  0.0  0.0  0.0  0.0  \n",
      "2871  0.0  0.0  0.0  0.0  0.0  0.0  0.0  0.0  0.0  0.0  \n",
      "\n",
      "[2872 rows x 7429 columns]\n"
     ]
    }
   ],
   "source": [
    "# Convert to DataFrame for better readability\n",
    "feature_names = tfidf_vectorizer.get_feature_names_out()\n",
    "tfidf_df = pd.DataFrame(X_train.toarray(), columns=feature_names)\n",
    "\n",
    "# Display the TF-IDF feature matrix\n",
    "print(\"TF-IDF Feature Matrix:\")\n",
    "print(tfidf_df)"
   ]
  },
  {
   "cell_type": "code",
   "execution_count": 5,
   "id": "8270c19b-a561-40fb-bad3-27bcf13d5d6d",
   "metadata": {},
   "outputs": [
    {
     "name": "stdout",
     "output_type": "stream",
     "text": [
      "TF-IDF Feature Matrix:\n",
      "            a   aa  aaa  aac  aad  aae  aaf  aag  aah  aai  ...  yyi  yyk  \\\n",
      "0    0.041998  0.0  0.0  0.0  0.0  0.0  0.0  0.0  0.0  0.0  ...  0.0  0.0   \n",
      "1    0.000000  0.0  0.0  0.0  0.0  0.0  0.0  0.0  0.0  0.0  ...  0.0  0.0   \n",
      "2    0.077466  0.0  0.0  0.0  0.0  0.0  0.0  0.0  0.0  0.0  ...  0.0  0.0   \n",
      "3    0.046252  0.0  0.0  0.0  0.0  0.0  0.0  0.0  0.0  0.0  ...  0.0  0.0   \n",
      "4    0.123822  0.0  0.0  0.0  0.0  0.0  0.0  0.0  0.0  0.0  ...  0.0  0.0   \n",
      "..        ...  ...  ...  ...  ...  ...  ...  ...  ...  ...  ...  ...  ...   \n",
      "337  0.088723  0.0  0.0  0.0  0.0  0.0  0.0  0.0  0.0  0.0  ...  0.0  0.0   \n",
      "338  0.043384  0.0  0.0  0.0  0.0  0.0  0.0  0.0  0.0  0.0  ...  0.0  0.0   \n",
      "339  0.000000  0.0  0.0  0.0  0.0  0.0  0.0  0.0  0.0  0.0  ...  0.0  0.0   \n",
      "340  0.039188  0.0  0.0  0.0  0.0  0.0  0.0  0.0  0.0  0.0  ...  0.0  0.0   \n",
      "341  0.087903  0.0  0.0  0.0  0.0  0.0  0.0  0.0  0.0  0.0  ...  0.0  0.0   \n",
      "\n",
      "     yyl  yyn  yyp  yyr  yys  yyt  yyv  yyy  \n",
      "0    0.0  0.0  0.0  0.0  0.0  0.0  0.0  0.0  \n",
      "1    0.0  0.0  0.0  0.0  0.0  0.0  0.0  0.0  \n",
      "2    0.0  0.0  0.0  0.0  0.0  0.0  0.0  0.0  \n",
      "3    0.0  0.0  0.0  0.0  0.0  0.0  0.0  0.0  \n",
      "4    0.0  0.0  0.0  0.0  0.0  0.0  0.0  0.0  \n",
      "..   ...  ...  ...  ...  ...  ...  ...  ...  \n",
      "337  0.0  0.0  0.0  0.0  0.0  0.0  0.0  0.0  \n",
      "338  0.0  0.0  0.0  0.0  0.0  0.0  0.0  0.0  \n",
      "339  0.0  0.0  0.0  0.0  0.0  0.0  0.0  0.0  \n",
      "340  0.0  0.0  0.0  0.0  0.0  0.0  0.0  0.0  \n",
      "341  0.0  0.0  0.0  0.0  0.0  0.0  0.0  0.0  \n",
      "\n",
      "[342 rows x 7429 columns]\n"
     ]
    }
   ],
   "source": [
    "# Convert to DataFrame for better readability\n",
    "tfidf_df_test = pd.DataFrame(X_test.toarray(), columns=feature_names)\n",
    "\n",
    "# Display the TF-IDF feature matrix\n",
    "print(\"TF-IDF Feature Matrix:\")\n",
    "print(tfidf_df_test)"
   ]
  },
  {
   "cell_type": "code",
   "execution_count": 6,
   "id": "3b98b4db-e28e-4006-bf91-f6321d3364d5",
   "metadata": {},
   "outputs": [
    {
     "name": "stdout",
     "output_type": "stream",
     "text": [
      "<Compressed Sparse Row sparse matrix of dtype 'float64'\n",
      "\twith 110810 stored elements and shape (2872, 7429)>\n",
      "  Coords\tValues\n",
      "  (0, 675)\t0.15147817177946465\n",
      "  (0, 5229)\t0.10426095123239261\n",
      "  (0, 2226)\t0.06861159149553296\n",
      "  (0, 2952)\t0.048215405101548085\n",
      "  (0, 2553)\t0.04849821756649567\n",
      "  (0, 6409)\t0.08627156578386706\n",
      "  (0, 4079)\t0.05129045885756836\n",
      "  (0, 4858)\t0.11366482933865495\n",
      "  (0, 7067)\t0.05617095397043446\n",
      "  (0, 1826)\t0.044940598465158486\n",
      "  (0, 713)\t0.137126022083557\n",
      "  (0, 946)\t0.13950639779665236\n",
      "  (0, 5347)\t0.1535630129934044\n",
      "  (0, 2359)\t0.15835705747589784\n",
      "  (0, 3091)\t0.12809745348152146\n",
      "  (0, 2899)\t0.1264288685918739\n",
      "  (0, 6624)\t0.12809745348152146\n",
      "  (0, 4418)\t0.125740285560863\n",
      "  (0, 6445)\t0.12014589506390759\n",
      "  (0, 928)\t0.1479855585801568\n",
      "  (0, 5119)\t0.137455122823859\n",
      "  (0, 5484)\t0.1417025850521905\n",
      "  (0, 5212)\t0.14989999241605395\n",
      "  (0, 7156)\t0.1417025850521905\n",
      "  (0, 728)\t0.22302712744074651\n",
      "  :\t:\n",
      "  (2871, 1884)\t0.10408822811030898\n",
      "  (2871, 1366)\t0.11373512417940455\n",
      "  (2871, 1901)\t0.17882271133334687\n",
      "  (2871, 4803)\t0.10522669407718516\n",
      "  (2871, 6506)\t0.10093321282513731\n",
      "  (2871, 1827)\t0.28388762811964474\n",
      "  (2871, 235)\t0.2135280735991759\n",
      "  (2871, 6507)\t0.15873206586298078\n",
      "  (2871, 2066)\t0.1072963905322233\n",
      "  (2871, 4567)\t0.2038896321031593\n",
      "  (2871, 3053)\t0.10489653368400433\n",
      "  (2871, 5326)\t0.10973163813288386\n",
      "  (2871, 241)\t0.31514566277313416\n",
      "  (2871, 4568)\t0.3250777750497731\n",
      "  (2871, 1865)\t0.10953638354092153\n",
      "  (2871, 6113)\t0.09982130746391413\n",
      "  (2871, 4809)\t0.16253888752488654\n",
      "  (2871, 1372)\t0.17037474274083433\n",
      "  (2871, 5330)\t0.17427250905797684\n",
      "  (2871, 951)\t0.18141876037869648\n",
      "  (2871, 6126)\t0.1686168490244292\n",
      "  (2871, 2084)\t0.1842885594563248\n",
      "  (2871, 1840)\t0.3308173732050298\n",
      "  (2871, 3056)\t0.18141876037869648\n",
      "  (2871, 1879)\t0.1842885594563248\n"
     ]
    }
   ],
   "source": [
    "print(X_train)"
   ]
  },
  {
   "cell_type": "code",
   "execution_count": 7,
   "id": "301b4119-9010-4dc2-989f-3ed84437fa17",
   "metadata": {},
   "outputs": [
    {
     "name": "stdout",
     "output_type": "stream",
     "text": [
      "<Compressed Sparse Row sparse matrix of dtype 'float64'\n",
      "\twith 13191 stored elements and shape (342, 7429)>\n",
      "  Coords\tValues\n",
      "  (0, 0)\t0.0419978648412555\n",
      "  (0, 319)\t0.11100584544367245\n",
      "  (0, 1049)\t0.09548716862707805\n",
      "  (0, 1185)\t0.12483256694466967\n",
      "  (0, 1191)\t0.2266356564024242\n",
      "  (0, 1366)\t0.12869001704314842\n",
      "  (0, 1376)\t0.20852043753767913\n",
      "  (0, 1440)\t0.10357473473642126\n",
      "  (0, 1495)\t0.13137165348032834\n",
      "  (0, 1503)\t0.20852043753767913\n",
      "  (0, 1752)\t0.12718633457610354\n",
      "  (0, 1753)\t0.20527329207689912\n",
      "  (0, 1826)\t0.044535475434386\n",
      "  (0, 2127)\t0.11115087807402409\n",
      "  (0, 2145)\t0.19965425526932962\n",
      "  (0, 2553)\t0.04806102390289027\n",
      "  (0, 2652)\t0.1276794551293738\n",
      "  (0, 2668)\t0.2162657916670298\n",
      "  (0, 2952)\t0.047780760888703304\n",
      "  (0, 3271)\t0.12483256694466967\n",
      "  (0, 3276)\t0.20233589170650954\n",
      "  (0, 3347)\t0.03934064895561324\n",
      "  (0, 3428)\t0.12201902224160596\n",
      "  (0, 3432)\t0.19277711001972359\n",
      "  (0, 4472)\t0.04946258245332656\n",
      "  :\t:\n",
      "  (341, 1712)\t0.14324575999964878\n",
      "  (341, 1716)\t0.23129723743921118\n",
      "  (341, 1752)\t0.13310242406837008\n",
      "  (341, 1762)\t0.21821979378967749\n",
      "  (341, 2952)\t0.1000065788406246\n",
      "  (341, 3013)\t0.1283507682121959\n",
      "  (341, 3030)\t0.23129723743921118\n",
      "  (341, 3212)\t0.1481591969425855\n",
      "  (341, 3213)\t0.24437468108874494\n",
      "  (341, 4472)\t0.05176334114165402\n",
      "  (341, 4547)\t0.14255212155513575\n",
      "  (341, 4556)\t0.23717764450109866\n",
      "  (341, 4858)\t0.058939827907291395\n",
      "  (341, 4859)\t0.13991776454972601\n",
      "  (341, 4877)\t0.2263254241101084\n",
      "  (341, 5229)\t0.054063535385944564\n",
      "  (341, 5306)\t0.1389828311302575\n",
      "  (341, 5322)\t0.2263254241101084\n",
      "  (341, 6015)\t0.09930962968153102\n",
      "  (341, 6037)\t0.1717638915381926\n",
      "  (341, 6248)\t0.12791194587084875\n",
      "  (341, 6253)\t0.24437468108874494\n",
      "  (341, 6409)\t0.0447353088037801\n",
      "  (341, 6566)\t0.12600794064996226\n",
      "  (341, 6569)\t0.2263254241101084\n"
     ]
    }
   ],
   "source": [
    "print(X_test)"
   ]
  },
  {
   "cell_type": "code",
   "execution_count": 8,
   "id": "1835e12d-1629-4207-9ba3-69371f020f9e",
   "metadata": {},
   "outputs": [],
   "source": [
    "# Train/test split for internal validation\n",
    "X_train_split, X_val, y_train_split, y_val = train_test_split(X_train, y_train, test_size=0.2, random_state=42)\n",
    "\n",
    "# Train a Random Forest Classifier\n",
    "clf = RandomForestClassifier(random_state=42, n_estimators=100)\n",
    "history = clf.fit(X_train_split, y_train_split)"
   ]
  },
  {
   "cell_type": "code",
   "execution_count": 9,
   "id": "75ec228e-7ab0-4587-9839-350a78efbecd",
   "metadata": {},
   "outputs": [
    {
     "name": "stdout",
     "output_type": "stream",
     "text": [
      "Validation Accuracy: 0.6556521739130434\n",
      "Validation MCC: 0.27823465730326674\n"
     ]
    }
   ],
   "source": [
    "# Evaluate on validation set\n",
    "y_val_pred = clf.predict(X_val)\n",
    "accuracy_val = accuracy_score(y_val, y_val_pred)\n",
    "mcc_val = matthews_corrcoef(y_val, y_val_pred)\n",
    "print(f\"Validation Accuracy: {accuracy_val}\")\n",
    "print(f\"Validation MCC: {mcc_val}\")"
   ]
  },
  {
   "cell_type": "code",
   "execution_count": 10,
   "id": "b5ffd7a9-1e28-4c97-aec6-ef4992438133",
   "metadata": {},
   "outputs": [
    {
     "data": {
      "image/png": "[encoded data removed]",
      "text/plain": [
       "<Figure size 640x480 with 1 Axes>"
      ]
     },
     "metadata": {},
     "output_type": "display_data"
    }
   ],
   "source": [
    "# Plot loss (simulated for this example, as RF doesn't have epochs)\n",
    "train_losses = [0.3, 0.2, 0.15]  # Placeholder\n",
    "val_losses = [0.4, 0.25, 0.2]    # Placeholder\n",
    "plt.plot(train_losses, label='Train Loss')\n",
    "plt.plot(val_losses, label='Validation Loss')\n",
    "plt.xlabel('Epochs')\n",
    "plt.ylabel('Loss')\n",
    "plt.legend()\n",
    "plt.show()"
   ]
  },
  {
   "cell_type": "code",
   "execution_count": 11,
   "id": "8be32c96-29b9-4dfb-bade-18b16f0ab7ab",
   "metadata": {},
   "outputs": [],
   "source": [
    "# Test Phase\n",
    "y_test_pred = clf.predict(X_test)\n",
    "accuracy_test = accuracy_score(y_test, y_test_pred)\n",
    "mcc_test = matthews_corrcoef(y_test, y_test_pred)"
   ]
  },
  {
   "cell_type": "code",
   "execution_count": 12,
   "id": "36ede21f-3831-40aa-a309-292149926055",
   "metadata": {},
   "outputs": [
    {
     "data": {
      "image/png": "[encoded data removed]",
      "text/plain": [
       "<Figure size 640x480 with 2 Axes>"
      ]
     },
     "metadata": {},
     "output_type": "display_data"
    },
    {
     "name": "stdout",
     "output_type": "stream",
     "text": [
      "[[148  23]\n",
      " [116  55]]\n",
      "Test Accuracy: 0.5935672514619883\n",
      "Test MCC: 0.2229978693352242\n"
     ]
    }
   ],
   "source": [
    "# Confusion Matrix\n",
    "cm = confusion_matrix(y_test, y_test_pred)\n",
    "sns.heatmap(cm, annot=True, fmt='d', cmap='Blues')\n",
    "plt.xlabel(\"Predicted\")\n",
    "plt.ylabel(\"True\")\n",
    "plt.title(\"Confusion Matrix\")\n",
    "plt.show()\n",
    "print(cm)\n",
    "print(f\"Test Accuracy: {accuracy_test}\")\n",
    "print(f\"Test MCC: {mcc_test}\")\n"
   ]
  },
  {
   "cell_type": "code",
   "execution_count": null,
   "id": "8b9e9e6a-555c-4378-baeb-18abde7910d4",
   "metadata": {},
   "outputs": [],
   "source": [
    "# Select a sample from the test dataset\n",
    "sample_index = int(input(\"Write your sequence number: \"))# Change this to test other samples\n",
    "sample_sequence = test_data.iloc[sample_index]['peptide_sequence']\n",
    "sample_label = test_data.iloc[sample_index]['label']\n",
    "\n",
    "# Transform the sample using the TF-IDF vectorizer\n",
    "sample_vector = tfidf_vectorizer.transform([sample_sequence])\n",
    "\n",
    "# Predict the label for the sample\n",
    "predicted_label = clf.predict(sample_vector)[0]\n",
    "predicted_proba = clf.predict_proba(sample_vector)[0]\n",
    "\n",
    "# Output the results\n",
    "print(f\"Sample Sequence: {sample_sequence}\")\n",
    "print(f\"True Label: {sample_label} ({'Proinflammatory' if sample_label == 1 else 'Non-Proinflammatory'})\")\n",
    "print(f\"Predicted Label: {predicted_label} ({'Proinflammatory' if predicted_label == 1 else 'Non-Proinflammatory'})\")\n",
    "print(f\"Prediction Probabilities: {predicted_proba}\")"
   ]
  },
  {
   "cell_type": "code",
   "execution_count": null,
   "id": "458bbbf4-40c9-4325-ba88-6769e1ccb8cf",
   "metadata": {},
   "outputs": [],
   "source": []
  }
 ],
 "metadata": {
  "kernelspec": {
   "display_name": "Python 3 (ipykernel)",
   "language": "python",
   "name": "python3"
  },
  "language_info": {
   "codemirror_mode": {
    "name": "ipython",
    "version": 3
   },
   "file_extension": ".py",
   "mimetype": "text/x-python",
   "name": "python",
   "nbconvert_exporter": "python",
   "pygments_lexer": "ipython3",
   "version": "3.11.7"
  }
 },
 "nbformat": 4,
 "nbformat_minor": 5
}
