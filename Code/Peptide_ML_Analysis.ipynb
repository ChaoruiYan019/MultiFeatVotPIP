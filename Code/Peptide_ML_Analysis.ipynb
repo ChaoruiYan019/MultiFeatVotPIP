{
 "cells": [
  {
   "cell_type": "code",
   "execution_count": 1,
   "id": "22d936d4-0392-45e6-b6f6-21259c3c2408",
   "metadata": {},
   "outputs": [],
   "source": [
    "import pandas as pd\n",
    "from sklearn.feature_extraction.text import TfidfVectorizer\n",
    "from sklearn.model_selection import train_test_split\n",
    "from sklearn.ensemble import RandomForestClassifier\n",
    "from sklearn.metrics import confusion_matrix, accuracy_score, matthews_corrcoef\n",
    "import matplotlib.pyplot as plt\n",
    "import seaborn as sns"
   ]
  },
  {
   "cell_type": "code",
   "execution_count": 2,
   "id": "fe6a5196-ba67-4a19-8799-a0907d1d9e92",
   "metadata": {},
   "outputs": [],
   "source": [
    "import pandas as pd\n",
    "\n",
    "# Load datasets\n",
    "X_train = pd.read_csv(\"X_train.csv\")  # Peptide sequences\n",
    "train_labels = pd.read_csv(\"label_train.csv\")  # Corresponding labels\n",
    "\n",
    "# Combine features and labels\n",
    "train_data = pd.concat([X_train, train_labels], axis=1)\n",
    "train_data.columns = ['peptide_sequence', 'label']\n",
    "\n",
    "# Load test data\n",
    "X_test = pd.read_csv(\"X_test.csv\")\n",
    "test_labels = pd.read_csv(\"label_test.csv\")\n",
    "test_data = pd.concat([X_test, test_labels], axis=1)\n",
    "test_data.columns = ['peptide_sequence', 'label']"
   ]
  },
  {
   "cell_type": "code",
   "execution_count": 3,
   "id": "1c7a9902-2069-495f-ba90-64f2ab573397",
   "metadata": {},
   "outputs": [
    {
     "name": "stdout",
     "output_type": "stream",
     "text": [
      "Train TF-IDF shape: (2872, 420)\n",
      "Test TF-IDF shape: (342, 420)\n"
     ]
    }
   ],
   "source": [
    "tfidf_vectorizer = TfidfVectorizer(analyzer='char', ngram_range=(1, 2))\n",
    "X_train = tfidf_vectorizer.fit_transform(train_data['peptide_sequence'])\n",
    "X_test = tfidf_vectorizer.transform(test_data['peptide_sequence'])\n",
    "y_train = train_data['label']\n",
    "y_test = test_data['label']\n",
    "# Check shapes\n",
    "print(f\"Train TF-IDF shape: {X_train.shape}\")\n",
    "print(f\"Test TF-IDF shape: {X_test.shape}\")"
   ]
  },
  {
   "cell_type": "code",
   "execution_count": 8,
   "id": "997c3d38-a14d-46e9-9ac1-f31c1d9e9159",
   "metadata": {},
   "outputs": [
    {
     "name": "stdout",
     "output_type": "stream",
     "text": [
      "TF-IDF Feature Matrix:\n",
      "             a        aa   ac   ad   ae        af   ag   ah        ai   ak  \\\n",
      "0     0.000000  0.000000  0.0  0.0  0.0  0.000000  0.0  0.0  0.000000  0.0   \n",
      "1     0.000000  0.000000  0.0  0.0  0.0  0.000000  0.0  0.0  0.000000  0.0   \n",
      "2     0.000000  0.000000  0.0  0.0  0.0  0.000000  0.0  0.0  0.000000  0.0   \n",
      "3     0.075030  0.000000  0.0  0.0  0.0  0.215461  0.0  0.0  0.000000  0.0   \n",
      "4     0.382984  0.355354  0.0  0.0  0.0  0.000000  0.0  0.0  0.211296  0.0   \n",
      "...        ...       ...  ...  ...  ...       ...  ...  ...       ...  ...   \n",
      "2867  0.000000  0.000000  0.0  0.0  0.0  0.000000  0.0  0.0  0.000000  0.0   \n",
      "2868  0.071017  0.000000  0.0  0.0  0.0  0.000000  0.0  0.0  0.000000  0.0   \n",
      "2869  0.077761  0.000000  0.0  0.0  0.0  0.000000  0.0  0.0  0.000000  0.0   \n",
      "2870  0.000000  0.000000  0.0  0.0  0.0  0.000000  0.0  0.0  0.000000  0.0   \n",
      "2871  0.180543  0.000000  0.0  0.0  0.0  0.000000  0.0  0.0  0.000000  0.0   \n",
      "\n",
      "      ...   ym        yn   yp   yq   yr        ys        yt   yv   yw   yy  \n",
      "0     ...  0.0  0.000000  0.0  0.0  0.0  0.000000  0.000000  0.0  0.0  0.0  \n",
      "1     ...  0.0  0.000000  0.0  0.0  0.0  0.000000  0.000000  0.0  0.0  0.0  \n",
      "2     ...  0.0  0.000000  0.0  0.0  0.0  0.249912  0.000000  0.0  0.0  0.0  \n",
      "3     ...  0.0  0.000000  0.0  0.0  0.0  0.000000  0.239945  0.0  0.0  0.0  \n",
      "4     ...  0.0  0.000000  0.0  0.0  0.0  0.000000  0.000000  0.0  0.0  0.0  \n",
      "...   ...  ...       ...  ...  ...  ...       ...       ...  ...  ...  ...  \n",
      "2867  ...  0.0  0.000000  0.0  0.0  0.0  0.000000  0.000000  0.0  0.0  0.0  \n",
      "2868  ...  0.0  0.000000  0.0  0.0  0.0  0.000000  0.000000  0.0  0.0  0.0  \n",
      "2869  ...  0.0  0.257285  0.0  0.0  0.0  0.000000  0.000000  0.0  0.0  0.0  \n",
      "2870  ...  0.0  0.000000  0.0  0.0  0.0  0.000000  0.000000  0.0  0.0  0.0  \n",
      "2871  ...  0.0  0.000000  0.0  0.0  0.0  0.000000  0.000000  0.0  0.0  0.0  \n",
      "\n",
      "[2872 rows x 420 columns]\n"
     ]
    }
   ],
   "source": [
    "# Convert to DataFrame for better readability\n",
    "feature_names = tfidf_vectorizer.get_feature_names_out()\n",
    "tfidf_df = pd.DataFrame(X_train.toarray(), columns=feature_names)\n",
    "\n",
    "# Display the TF-IDF feature matrix\n",
    "print(\"TF-IDF Feature Matrix:\")\n",
    "print(tfidf_df)"
   ]
  },
  {
   "cell_type": "code",
   "execution_count": 9,
   "id": "8270c19b-a561-40fb-bad3-27bcf13d5d6d",
   "metadata": {},
   "outputs": [
    {
     "name": "stdout",
     "output_type": "stream",
     "text": [
      "TF-IDF Feature Matrix:\n",
      "            a   aa   ac   ad   ae   af        ag   ah   ai   ak  ...  \\\n",
      "0    0.071160  0.0  0.0  0.0  0.0  0.0  0.000000  0.0  0.0  0.0  ...   \n",
      "1    0.000000  0.0  0.0  0.0  0.0  0.0  0.000000  0.0  0.0  0.0  ...   \n",
      "2    0.128690  0.0  0.0  0.0  0.0  0.0  0.167066  0.0  0.0  0.0  ...   \n",
      "3    0.078436  0.0  0.0  0.0  0.0  0.0  0.000000  0.0  0.0  0.0  ...   \n",
      "4    0.215801  0.0  0.0  0.0  0.0  0.0  0.000000  0.0  0.0  0.0  ...   \n",
      "..        ...  ...  ...  ...  ...  ...       ...  ...  ...  ...  ...   \n",
      "337  0.148357  0.0  0.0  0.0  0.0  0.0  0.000000  0.0  0.0  0.0  ...   \n",
      "338  0.073144  0.0  0.0  0.0  0.0  0.0  0.000000  0.0  0.0  0.0  ...   \n",
      "339  0.000000  0.0  0.0  0.0  0.0  0.0  0.000000  0.0  0.0  0.0  ...   \n",
      "340  0.064395  0.0  0.0  0.0  0.0  0.0  0.000000  0.0  0.0  0.0  ...   \n",
      "341  0.148839  0.0  0.0  0.0  0.0  0.0  0.000000  0.0  0.0  0.0  ...   \n",
      "\n",
      "           ym        yn        yp   yq   yr   ys   yt   yv        yw   yy  \n",
      "0    0.000000  0.000000  0.000000  0.0  0.0  0.0  0.0  0.0  0.000000  0.0  \n",
      "1    0.000000  0.196458  0.000000  0.0  0.0  0.0  0.0  0.0  0.000000  0.0  \n",
      "2    0.000000  0.000000  0.000000  0.0  0.0  0.0  0.0  0.0  0.273161  0.0  \n",
      "3    0.300772  0.000000  0.000000  0.0  0.0  0.0  0.0  0.0  0.000000  0.0  \n",
      "4    0.000000  0.000000  0.000000  0.0  0.0  0.0  0.0  0.0  0.000000  0.0  \n",
      "..        ...       ...       ...  ...  ...  ...  ...  ...       ...  ...  \n",
      "337  0.000000  0.000000  0.000000  0.0  0.0  0.0  0.0  0.0  0.000000  0.0  \n",
      "338  0.000000  0.000000  0.000000  0.0  0.0  0.0  0.0  0.0  0.000000  0.0  \n",
      "339  0.000000  0.000000  0.226859  0.0  0.0  0.0  0.0  0.0  0.000000  0.0  \n",
      "340  0.246930  0.000000  0.000000  0.0  0.0  0.0  0.0  0.0  0.000000  0.0  \n",
      "341  0.000000  0.000000  0.000000  0.0  0.0  0.0  0.0  0.0  0.000000  0.0  \n",
      "\n",
      "[342 rows x 420 columns]\n"
     ]
    }
   ],
   "source": [
    "# Convert to DataFrame for better readability\n",
    "tfidf_df_test = pd.DataFrame(X_test.toarray(), columns=feature_names)\n",
    "\n",
    "# Display the TF-IDF feature matrix\n",
    "print(\"TF-IDF Feature Matrix:\")\n",
    "print(tfidf_df_test)"
   ]
  },
  {
   "cell_type": "code",
   "execution_count": 5,
   "id": "3b98b4db-e28e-4006-bf91-f6321d3364d5",
   "metadata": {},
   "outputs": [
    {
     "name": "stdout",
     "output_type": "stream",
     "text": [
      "<Compressed Sparse Row sparse matrix of dtype 'float64'\n",
      "\twith 70697 stored elements and shape (2872, 420)>\n",
      "  Coords\tValues\n",
      "  (0, 42)\t0.2594918383325127\n",
      "  (0, 294)\t0.17860570657651512\n",
      "  (0, 126)\t0.1175360634403226\n",
      "  (0, 168)\t0.08259608601536914\n",
      "  (0, 147)\t0.08308056193404766\n",
      "  (0, 357)\t0.14778873376998902\n",
      "  (0, 231)\t0.08786385062295053\n",
      "  (0, 273)\t0.19471515382282584\n",
      "  (0, 399)\t0.09622445224583172\n",
      "  (0, 105)\t0.07698613189275506\n",
      "  (0, 45)\t0.23490568400503242\n",
      "  (0, 57)\t0.23898342050301752\n",
      "  (0, 301)\t0.2630633052500317\n",
      "  (0, 135)\t0.27127581139000023\n",
      "  (0, 176)\t0.2194391660471558\n",
      "  (0, 165)\t0.21658077295102793\n",
      "  (0, 369)\t0.2194391660471558\n",
      "  (0, 249)\t0.21540118598834834\n",
      "  (0, 360)\t0.20581763571604633\n",
      "  (0, 56)\t0.2535087675769964\n",
      "  (0, 288)\t0.23546945471268182\n",
      "  (0, 308)\t0.2427456303420148\n",
      "  (0, 293)\t0.2567883157099523\n",
      "  (0, 405)\t0.2427456303420148\n",
      "  (1, 294)\t0.09906420962906315\n",
      "  :\t:\n",
      "  (2870, 306)\t0.2388139885888055\n",
      "  (2870, 25)\t0.30626657850247063\n",
      "  (2870, 129)\t0.2927554715549072\n",
      "  (2871, 42)\t0.07170152309287053\n",
      "  (2871, 294)\t0.074027190663726\n",
      "  (2871, 168)\t0.06846764669210431\n",
      "  (2871, 357)\t0.06125439652766488\n",
      "  (2871, 105)\t0.3829038057065378\n",
      "  (2871, 57)\t0.19810421037658504\n",
      "  (2871, 63)\t0.06841437435892612\n",
      "  (2871, 252)\t0.2126328603963771\n",
      "  (2871, 336)\t0.06799049339538746\n",
      "  (2871, 0)\t0.18054306283266058\n",
      "  (2871, 109)\t0.1687657086711923\n",
      "  (2871, 80)\t0.18440691307187526\n",
      "  (2871, 270)\t0.17061158518562655\n",
      "  (2871, 363)\t0.1636502561350404\n",
      "  (2871, 106)\t0.4602873697861579\n",
      "  (2871, 13)\t0.34620837837655893\n",
      "  (2871, 118)\t0.17396733247146368\n",
      "  (2871, 258)\t0.33058088198150826\n",
      "  (2871, 174)\t0.17007627246350707\n",
      "  (2871, 300)\t0.17791577404431622\n",
      "  (2871, 108)\t0.17759919377215608\n",
      "  (2871, 342)\t0.16184744423528105\n"
     ]
    }
   ],
   "source": [
    "print(X_train)"
   ]
  },
  {
   "cell_type": "code",
   "execution_count": 6,
   "id": "301b4119-9010-4dc2-989f-3ed84437fa17",
   "metadata": {},
   "outputs": [
    {
     "name": "stdout",
     "output_type": "stream",
     "text": [
      "<Compressed Sparse Row sparse matrix of dtype 'float64'\n",
      "\twith 8495 stored elements and shape (342, 420)>\n",
      "  Coords\tValues\n",
      "  (0, 0)\t0.07115951370273531\n",
      "  (0, 17)\t0.1880838944977325\n",
      "  (0, 63)\t0.1617896650231429\n",
      "  (0, 71)\t0.21151134210329756\n",
      "  (0, 80)\t0.21804725230201494\n",
      "  (0, 84)\t0.17549291573731376\n",
      "  (0, 88)\t0.22259091054555993\n",
      "  (0, 101)\t0.2154994724679046\n",
      "  (0, 105)\t0.07545914027795808\n",
      "  (0, 121)\t0.18832963202476774\n",
      "  (0, 147)\t0.08143268954058025\n",
      "  (0, 153)\t0.21633499634275324\n",
      "  (0, 168)\t0.08095782302358492\n",
      "  (0, 185)\t0.21151134210329756\n",
      "  (0, 189)\t0.06665723267154007\n",
      "  (0, 194)\t0.20674418373446907\n",
      "  (0, 252)\t0.08380743466755122\n",
      "  (0, 256)\t0.21151134210329756\n",
      "  (0, 315)\t0.1498459518330511\n",
      "  (0, 324)\t0.19985898040646388\n",
      "  (0, 333)\t0.19516196191134677\n",
      "  (0, 336)\t0.4019681263723615\n",
      "  (0, 337)\t0.19516196191134677\n",
      "  (0, 341)\t0.22602439015505024\n",
      "  (0, 346)\t0.1873535451360356\n",
      "  :\t:\n",
      "  (340, 410)\t0.24693040489101922\n",
      "  (341, 0)\t0.14883939166429966\n",
      "  (341, 18)\t0.1870870491980573\n",
      "  (341, 21)\t0.1459983369216874\n",
      "  (341, 22)\t0.2816017245793833\n",
      "  (341, 63)\t0.0846010395047492\n",
      "  (341, 80)\t0.22803711477202282\n",
      "  (341, 84)\t0.27529971883505094\n",
      "  (341, 93)\t0.22803711477202282\n",
      "  (341, 99)\t0.2425475775802714\n",
      "  (341, 101)\t0.225372608082252\n",
      "  (341, 168)\t0.16933383187009093\n",
      "  (341, 172)\t0.21732697645299484\n",
      "  (341, 182)\t0.25086714130142895\n",
      "  (341, 252)\t0.0876470828972541\n",
      "  (341, 257)\t0.24137309029050036\n",
      "  (341, 273)\t0.09979850350856219\n",
      "  (341, 274)\t0.23691252608151214\n",
      "  (341, 294)\t0.09154183372211706\n",
      "  (341, 299)\t0.2353294716435205\n",
      "  (341, 336)\t0.1681537387892544\n",
      "  (341, 338)\t0.2908352457235121\n",
      "  (341, 349)\t0.21658395064977304\n",
      "  (341, 357)\t0.07574702932002216\n",
      "  (341, 366)\t0.21336003774633114\n"
     ]
    }
   ],
   "source": [
    "print(X_test)"
   ]
  },
  {
   "cell_type": "code",
   "execution_count": 7,
   "id": "1835e12d-1629-4207-9ba3-69371f020f9e",
   "metadata": {},
   "outputs": [],
   "source": [
    "# Train/test split for internal validation\n",
    "X_train_split, X_val, y_train_split, y_val = train_test_split(X_train, y_train, test_size=0.2, random_state=42)\n",
    "\n",
    "# Train a Random Forest Classifier\n",
    "clf = RandomForestClassifier(random_state=42, n_estimators=100)\n",
    "history = clf.fit(X_train_split, y_train_split)"
   ]
  },
  {
   "cell_type": "code",
   "execution_count": 8,
   "id": "75ec228e-7ab0-4587-9839-350a78efbecd",
   "metadata": {},
   "outputs": [
    {
     "name": "stdout",
     "output_type": "stream",
     "text": [
      "Validation Accuracy: 0.6139130434782609\n",
      "Validation MCC: 0.18238267429974464\n"
     ]
    }
   ],
   "source": [
    "# Evaluate on validation set\n",
    "y_val_pred = clf.predict(X_val)\n",
    "accuracy_val = accuracy_score(y_val, y_val_pred)\n",
    "mcc_val = matthews_corrcoef(y_val, y_val_pred)\n",
    "print(f\"Validation Accuracy: {accuracy_val}\")\n",
    "print(f\"Validation MCC: {mcc_val}\")"
   ]
  },
  {
   "cell_type": "code",
   "execution_count": 9,
   "id": "b5ffd7a9-1e28-4c97-aec6-ef4992438133",
   "metadata": {},
   "outputs": [
    {
     "data": {
      "image/png": "[encoded data removed]",
      "text/plain": [
       "<Figure size 640x480 with 1 Axes>"
      ]
     },
     "metadata": {},
     "output_type": "display_data"
    }
   ],
   "source": [
    "# Plot loss (simulated for this example, as RF doesn't have epochs)\n",
    "train_losses = [0.3, 0.2, 0.15]  # Placeholder\n",
    "val_losses = [0.4, 0.25, 0.2]    # Placeholder\n",
    "plt.plot(train_losses, label='Train Loss')\n",
    "plt.plot(val_losses, label='Validation Loss')\n",
    "plt.xlabel('Epochs')\n",
    "plt.ylabel('Loss')\n",
    "plt.legend()\n",
    "plt.show()"
   ]
  },
  {
   "cell_type": "code",
   "execution_count": 10,
   "id": "8be32c96-29b9-4dfb-bade-18b16f0ab7ab",
   "metadata": {},
   "outputs": [],
   "source": [
    "# Test Phase\n",
    "y_test_pred = clf.predict(X_test)\n",
    "accuracy_test = accuracy_score(y_test, y_test_pred)\n",
    "mcc_test = matthews_corrcoef(y_test, y_test_pred)"
   ]
  },
  {
   "cell_type": "code",
   "execution_count": 12,
   "id": "36ede21f-3831-40aa-a309-292149926055",
   "metadata": {},
   "outputs": [
    {
     "data": {
      "image/png": "[encoded data removed]",
      "text/plain": [
       "<Figure size 640x480 with 2 Axes>"
      ]
     },
     "metadata": {},
     "output_type": "display_data"
    },
    {
     "name": "stdout",
     "output_type": "stream",
     "text": [
      "[[135  36]\n",
      " [108  63]]\n",
      "Test Accuracy: 0.5789473684210527\n",
      "Test MCC: 0.17407765595569782\n"
     ]
    }
   ],
   "source": [
    "# Confusion Matrix\n",
    "cm = confusion_matrix(y_test, y_test_pred)\n",
    "sns.heatmap(cm, annot=True, fmt='d', cmap='Blues')\n",
    "plt.xlabel(\"Predicted\")\n",
    "plt.ylabel(\"True\")\n",
    "plt.title(\"Confusion Matrix\")\n",
    "plt.show()\n",
    "print(cm)\n",
    "print(f\"Test Accuracy: {accuracy_test}\")\n",
    "print(f\"Test MCC: {mcc_test}\")\n"
   ]
  },
  {
   "cell_type": "code",
   "execution_count": 19,
   "id": "8b9e9e6a-555c-4378-baeb-18abde7910d4",
   "metadata": {},
   "outputs": [
    {
     "name": "stdin",
     "output_type": "stream",
     "text": [
      "Write your sequence number:  55\n"
     ]
    },
    {
     "name": "stdout",
     "output_type": "stream",
     "text": [
      "Sample Sequence: AALALLLLDRLNQLESKMS\n",
      "True Label: 1 (Proinflammatory)\n",
      "Predicted Label: 1 (Proinflammatory)\n",
      "Prediction Probabilities: [0.28 0.72]\n"
     ]
    }
   ],
   "source": [
    "# Select a sample from the test dataset\n",
    "sample_index = int(input(\"Write your sequence number: \"))# Change this to test other samples\n",
    "sample_sequence = test_data.iloc[sample_index]['peptide_sequence']\n",
    "sample_label = test_data.iloc[sample_index]['label']\n",
    "\n",
    "# Transform the sample using the TF-IDF vectorizer\n",
    "sample_vector = tfidf_vectorizer.transform([sample_sequence])\n",
    "\n",
    "# Predict the label for the sample\n",
    "predicted_label = clf.predict(sample_vector)[0]\n",
    "predicted_proba = clf.predict_proba(sample_vector)[0]\n",
    "\n",
    "# Output the results\n",
    "print(f\"Sample Sequence: {sample_sequence}\")\n",
    "print(f\"True Label: {sample_label} ({'Proinflammatory' if sample_label == 1 else 'Non-Proinflammatory'})\")\n",
    "print(f\"Predicted Label: {predicted_label} ({'Proinflammatory' if predicted_label == 1 else 'Non-Proinflammatory'})\")\n",
    "print(f\"Prediction Probabilities: {predicted_proba}\")"
   ]
  },
  {
   "cell_type": "code",
   "execution_count": null,
   "id": "458bbbf4-40c9-4325-ba88-6769e1ccb8cf",
   "metadata": {},
   "outputs": [],
   "source": []
  }
 ],
 "metadata": {
  "kernelspec": {
   "display_name": "Python 3 (ipykernel)",
   "language": "python",
   "name": "python3"
  },
  "language_info": {
   "codemirror_mode": {
    "name": "ipython",
    "version": 3
   },
   "file_extension": ".py",
   "mimetype": "text/x-python",
   "name": "python",
   "nbconvert_exporter": "python",
   "pygments_lexer": "ipython3",
   "version": "3.11.7"
  }
 },
 "nbformat": 4,
 "nbformat_minor": 5
}
