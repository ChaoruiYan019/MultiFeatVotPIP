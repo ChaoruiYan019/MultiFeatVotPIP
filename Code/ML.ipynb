{
 "cells": [
  {
   "cell_type": "code",
   "execution_count": 1,
   "id": "934b99a6-40d6-4ffa-a5a8-278e2a4e5a9d",
   "metadata": {},
   "outputs": [],
   "source": [
    "import numpy as np\n",
    "import pandas as pd\n",
    "from sklearn.model_selection import train_test_split\n",
    "from sklearn.svm import SVC\n",
    "from sklearn.naive_bayes import MultinomialNB\n",
    "from sklearn.ensemble import RandomForestClassifier, GradientBoostingClassifier\n",
    "from sklearn.metrics import confusion_matrix, accuracy_score, matthews_corrcoef, classification_report\n",
    "from sklearn.feature_extraction.text import TfidfVectorizer\n",
    "from imblearn.over_sampling import SMOTE\n",
    "import matplotlib.pyplot as plt"
   ]
  },
  {
   "cell_type": "code",
   "execution_count": 2,
   "id": "e615e7b1-6627-4380-93ec-d0340aac2a7a",
   "metadata": {},
   "outputs": [],
   "source": [
    "import pandas as pd\n",
    "\n",
    "# Load datasets\n",
    "X_train = pd.read_csv(\"X_train.csv\")  # Peptide sequences\n",
    "train_labels = pd.read_csv(\"label_train.csv\")  # Corresponding labels\n",
    "\n",
    "# Combine features and labels\n",
    "train_data = pd.concat([X_train, train_labels], axis=1)\n",
    "train_data.columns = ['peptide_sequence', 'label']\n",
    "\n",
    "# Load test data\n",
    "X_test = pd.read_csv(\"X_test.csv\")\n",
    "test_labels = pd.read_csv(\"label_test.csv\")\n",
    "test_data = pd.concat([X_test, test_labels], axis=1)\n",
    "test_data.columns = ['peptide_sequence', 'label']"
   ]
  },
  {
   "cell_type": "code",
   "execution_count": 3,
   "id": "636560ae-f9f8-41e7-b406-8ab1f966efa2",
   "metadata": {},
   "outputs": [
    {
     "data": {
      "text/html": [
       "<div>\n",
       "<style scoped>\n",
       "    .dataframe tbody tr th:only-of-type {\n",
       "        vertical-align: middle;\n",
       "    }\n",
       "\n",
       "    .dataframe tbody tr th {\n",
       "        vertical-align: top;\n",
       "    }\n",
       "\n",
       "    .dataframe thead th {\n",
       "        text-align: right;\n",
       "    }\n",
       "</style>\n",
       "<table border=\"1\" class=\"dataframe\">\n",
       "  <thead>\n",
       "    <tr style=\"text-align: right;\">\n",
       "      <th></th>\n",
       "      <th>peptide_sequence</th>\n",
       "      <th>label</th>\n",
       "    </tr>\n",
       "  </thead>\n",
       "  <tbody>\n",
       "    <tr>\n",
       "      <th>0</th>\n",
       "      <td>DDRHKIVNVDQRQYG</td>\n",
       "      <td>1</td>\n",
       "    </tr>\n",
       "    <tr>\n",
       "      <th>1</th>\n",
       "      <td>EGNRPTNSIVFTKLT</td>\n",
       "      <td>1</td>\n",
       "    </tr>\n",
       "    <tr>\n",
       "      <th>2</th>\n",
       "      <td>TRQGGYSNDNTVIFR</td>\n",
       "      <td>1</td>\n",
       "    </tr>\n",
       "    <tr>\n",
       "      <th>3</th>\n",
       "      <td>LHGETFPYTAFDNNC</td>\n",
       "      <td>1</td>\n",
       "    </tr>\n",
       "    <tr>\n",
       "      <th>4</th>\n",
       "      <td>VMALEPVVGAAIAAP</td>\n",
       "      <td>1</td>\n",
       "    </tr>\n",
       "  </tbody>\n",
       "</table>\n",
       "</div>"
      ],
      "text/plain": [
       "  peptide_sequence  label\n",
       "0  DDRHKIVNVDQRQYG      1\n",
       "1  EGNRPTNSIVFTKLT      1\n",
       "2  TRQGGYSNDNTVIFR      1\n",
       "3  LHGETFPYTAFDNNC      1\n",
       "4  VMALEPVVGAAIAAP      1"
      ]
     },
     "execution_count": 3,
     "metadata": {},
     "output_type": "execute_result"
    }
   ],
   "source": [
    "train_data.head()"
   ]
  },
  {
   "cell_type": "code",
   "execution_count": 4,
   "id": "25ae2fed-956a-47ec-bdfe-e53b15a8701f",
   "metadata": {},
   "outputs": [
    {
     "data": {
      "text/html": [
       "<div>\n",
       "<style scoped>\n",
       "    .dataframe tbody tr th:only-of-type {\n",
       "        vertical-align: middle;\n",
       "    }\n",
       "\n",
       "    .dataframe tbody tr th {\n",
       "        vertical-align: top;\n",
       "    }\n",
       "\n",
       "    .dataframe thead th {\n",
       "        text-align: right;\n",
       "    }\n",
       "</style>\n",
       "<table border=\"1\" class=\"dataframe\">\n",
       "  <thead>\n",
       "    <tr style=\"text-align: right;\">\n",
       "      <th></th>\n",
       "      <th>peptide_sequence</th>\n",
       "      <th>label</th>\n",
       "    </tr>\n",
       "  </thead>\n",
       "  <tbody>\n",
       "    <tr>\n",
       "      <th>0</th>\n",
       "      <td>TPETLFEIGSVSKTFTAT</td>\n",
       "      <td>1</td>\n",
       "    </tr>\n",
       "    <tr>\n",
       "      <th>1</th>\n",
       "      <td>HPGNTILHVDTIYNRPSNTT</td>\n",
       "      <td>1</td>\n",
       "    </tr>\n",
       "    <tr>\n",
       "      <th>2</th>\n",
       "      <td>YWAGIEFDVTHKGMALLHRL</td>\n",
       "      <td>1</td>\n",
       "    </tr>\n",
       "    <tr>\n",
       "      <th>3</th>\n",
       "      <td>EQGLLYMPQELAVSD</td>\n",
       "      <td>1</td>\n",
       "    </tr>\n",
       "    <tr>\n",
       "      <th>4</th>\n",
       "      <td>GARGFFQARHLEMDA</td>\n",
       "      <td>1</td>\n",
       "    </tr>\n",
       "  </tbody>\n",
       "</table>\n",
       "</div>"
      ],
      "text/plain": [
       "       peptide_sequence  label\n",
       "0    TPETLFEIGSVSKTFTAT      1\n",
       "1  HPGNTILHVDTIYNRPSNTT      1\n",
       "2  YWAGIEFDVTHKGMALLHRL      1\n",
       "3       EQGLLYMPQELAVSD      1\n",
       "4       GARGFFQARHLEMDA      1"
      ]
     },
     "execution_count": 4,
     "metadata": {},
     "output_type": "execute_result"
    }
   ],
   "source": [
    "test_data.head()"
   ]
  },
  {
   "cell_type": "code",
   "execution_count": 5,
   "id": "106cacff-dfd5-47f0-a600-520b88dc7500",
   "metadata": {},
   "outputs": [
    {
     "data": {
      "text/plain": [
       "2872"
      ]
     },
     "execution_count": 5,
     "metadata": {},
     "output_type": "execute_result"
    }
   ],
   "source": [
    "len(train_data)"
   ]
  },
  {
   "cell_type": "code",
   "execution_count": 6,
   "id": "36f3c267-b793-435d-918b-75494d952f69",
   "metadata": {},
   "outputs": [
    {
     "data": {
      "text/plain": [
       "342"
      ]
     },
     "execution_count": 6,
     "metadata": {},
     "output_type": "execute_result"
    }
   ],
   "source": [
    "len(test_data)"
   ]
  },
  {
   "cell_type": "code",
   "execution_count": 7,
   "id": "6169aba3-1131-469d-98bc-6b99f1838a6a",
   "metadata": {},
   "outputs": [
    {
     "data": {
      "text/html": [
       "<div>\n",
       "<style scoped>\n",
       "    .dataframe tbody tr th:only-of-type {\n",
       "        vertical-align: middle;\n",
       "    }\n",
       "\n",
       "    .dataframe tbody tr th {\n",
       "        vertical-align: top;\n",
       "    }\n",
       "\n",
       "    .dataframe thead th {\n",
       "        text-align: right;\n",
       "    }\n",
       "</style>\n",
       "<table border=\"1\" class=\"dataframe\">\n",
       "  <thead>\n",
       "    <tr style=\"text-align: right;\">\n",
       "      <th></th>\n",
       "      <th>peptide_sequence</th>\n",
       "      <th>label</th>\n",
       "    </tr>\n",
       "  </thead>\n",
       "  <tbody>\n",
       "    <tr>\n",
       "      <th>0</th>\n",
       "      <td>TPETLFEIGSVSKTFTAT</td>\n",
       "      <td>1</td>\n",
       "    </tr>\n",
       "    <tr>\n",
       "      <th>1</th>\n",
       "      <td>HPGNTILHVDTIYNRPSNTT</td>\n",
       "      <td>1</td>\n",
       "    </tr>\n",
       "    <tr>\n",
       "      <th>2</th>\n",
       "      <td>YWAGIEFDVTHKGMALLHRL</td>\n",
       "      <td>1</td>\n",
       "    </tr>\n",
       "    <tr>\n",
       "      <th>3</th>\n",
       "      <td>EQGLLYMPQELAVSD</td>\n",
       "      <td>1</td>\n",
       "    </tr>\n",
       "    <tr>\n",
       "      <th>4</th>\n",
       "      <td>GARGFFQARHLEMDA</td>\n",
       "      <td>1</td>\n",
       "    </tr>\n",
       "  </tbody>\n",
       "</table>\n",
       "</div>"
      ],
      "text/plain": [
       "       peptide_sequence  label\n",
       "0    TPETLFEIGSVSKTFTAT      1\n",
       "1  HPGNTILHVDTIYNRPSNTT      1\n",
       "2  YWAGIEFDVTHKGMALLHRL      1\n",
       "3       EQGLLYMPQELAVSD      1\n",
       "4       GARGFFQARHLEMDA      1"
      ]
     },
     "execution_count": 7,
     "metadata": {},
     "output_type": "execute_result"
    }
   ],
   "source": [
    "test_data.head()"
   ]
  },
  {
   "cell_type": "code",
   "execution_count": 8,
   "id": "9d252e70-f559-4b82-b687-27c68dad338b",
   "metadata": {},
   "outputs": [
    {
     "name": "stdout",
     "output_type": "stream",
     "text": [
      "label\n",
      "0    1627\n",
      "1    1245\n",
      "Name: count, dtype: int64\n",
      "label\n",
      "1    171\n",
      "0    171\n",
      "Name: count, dtype: int64\n"
     ]
    }
   ],
   "source": [
    "print(train_data['label'].value_counts())\n",
    "print(test_data['label'].value_counts())"
   ]
  },
  {
   "cell_type": "markdown",
   "id": "564d29cd-9591-498e-a09f-e8ee9a50bd6e",
   "metadata": {},
   "source": [
    "# TF-IDF Vectorization "
   ]
  },
  {
   "cell_type": "code",
   "execution_count": 9,
   "id": "f9db5c6d-241c-4858-93a2-3db0ea8da0e7",
   "metadata": {},
   "outputs": [],
   "source": [
    "# Split features (peptide_sequence) and target (label)\n",
    "X_train = train_data['peptide_sequence']\n",
    "y_train = train_data['label']\n",
    "X_test = test_data['peptide_sequence']\n",
    "y_test = test_data['label']\n",
    "\n",
    "# Further split train into train and validation sets\n",
    "X_train, X_val, y_train, y_val = train_test_split(X_train, y_train, test_size=0.2, random_state=42)\n",
    "\n",
    "# Initialize TF-IDF Vectorizer (Monogram and Bigram)\n",
    "vectorizer = TfidfVectorizer(ngram_range=(1, 2), stop_words='english')\n",
    "\n",
    "# Fit on training data and transform both train and test data\n",
    "X_train_tfidf = vectorizer.fit_transform(X_train)\n",
    "X_val_tfidf = vectorizer.transform(X_val)\n",
    "X_test_tfidf = vectorizer.transform(X_test)"
   ]
  },
  {
   "cell_type": "markdown",
   "id": "ae26b570-ac7f-407c-b4ea-b74056d21262",
   "metadata": {},
   "source": [
    "# Apply SMOTE to handle class imbalance"
   ]
  },
  {
   "cell_type": "code",
   "execution_count": 10,
   "id": "c82b17e7-c5b7-4227-bc29-1ac244c1a2c5",
   "metadata": {},
   "outputs": [
    {
     "name": "stdout",
     "output_type": "stream",
     "text": [
      "\n",
      "Training and Evaluating SVM Model...\n",
      "\n",
      "SVC - Validation Results\n",
      "[[330   0]\n",
      " [245   0]]\n",
      "Validation Accuracy: 0.5739130434782609\n",
      "Validation MCC: 0.0\n",
      "              precision    recall  f1-score   support\n",
      "\n",
      "           0       0.57      1.00      0.73       330\n",
      "           1       0.00      0.00      0.00       245\n",
      "\n",
      "    accuracy                           0.57       575\n",
      "   macro avg       0.29      0.50      0.36       575\n",
      "weighted avg       0.33      0.57      0.42       575\n",
      "\n",
      "\n",
      "SVC - Test Results\n",
      "[[171   0]\n",
      " [171   0]]\n",
      "Test Accuracy: 0.5\n",
      "Test MCC: 0.0\n",
      "              precision    recall  f1-score   support\n",
      "\n",
      "           0       0.50      1.00      0.67       171\n",
      "           1       0.00      0.00      0.00       171\n",
      "\n",
      "    accuracy                           0.50       342\n",
      "   macro avg       0.25      0.50      0.33       342\n",
      "weighted avg       0.25      0.50      0.33       342\n",
      "\n",
      "\n",
      "Training and Evaluating Naive Bayes Model...\n",
      "\n",
      "MultinomialNB - Validation Results\n",
      "[[330   0]\n",
      " [245   0]]\n",
      "Validation Accuracy: 0.5739130434782609\n",
      "Validation MCC: 0.0\n",
      "              precision    recall  f1-score   support\n",
      "\n",
      "           0       0.57      1.00      0.73       330\n",
      "           1       0.00      0.00      0.00       245\n",
      "\n",
      "    accuracy                           0.57       575\n",
      "   macro avg       0.29      0.50      0.36       575\n",
      "weighted avg       0.33      0.57      0.42       575\n",
      "\n",
      "\n",
      "MultinomialNB - Test Results\n",
      "[[171   0]\n",
      " [171   0]]\n",
      "Test Accuracy: 0.5\n",
      "Test MCC: 0.0\n",
      "              precision    recall  f1-score   support\n",
      "\n",
      "           0       0.50      1.00      0.67       171\n",
      "           1       0.00      0.00      0.00       171\n",
      "\n",
      "    accuracy                           0.50       342\n",
      "   macro avg       0.25      0.50      0.33       342\n",
      "weighted avg       0.25      0.50      0.33       342\n",
      "\n",
      "\n",
      "Training and Evaluating Random Forest Model...\n"
     ]
    },
    {
     "name": "stderr",
     "output_type": "stream",
     "text": [
      "C:\\Users\\20301207\\AppData\\Roaming\\Python\\Python311\\site-packages\\sklearn\\metrics\\_classification.py:1531: UndefinedMetricWarning: Precision is ill-defined and being set to 0.0 in labels with no predicted samples. Use `zero_division` parameter to control this behavior.\n",
      "  _warn_prf(average, modifier, f\"{metric.capitalize()} is\", len(result))\n",
      "C:\\Users\\20301207\\AppData\\Roaming\\Python\\Python311\\site-packages\\sklearn\\metrics\\_classification.py:1531: UndefinedMetricWarning: Precision is ill-defined and being set to 0.0 in labels with no predicted samples. Use `zero_division` parameter to control this behavior.\n",
      "  _warn_prf(average, modifier, f\"{metric.capitalize()} is\", len(result))\n",
      "C:\\Users\\20301207\\AppData\\Roaming\\Python\\Python311\\site-packages\\sklearn\\metrics\\_classification.py:1531: UndefinedMetricWarning: Precision is ill-defined and being set to 0.0 in labels with no predicted samples. Use `zero_division` parameter to control this behavior.\n",
      "  _warn_prf(average, modifier, f\"{metric.capitalize()} is\", len(result))\n",
      "C:\\Users\\20301207\\AppData\\Roaming\\Python\\Python311\\site-packages\\sklearn\\metrics\\_classification.py:1531: UndefinedMetricWarning: Precision is ill-defined and being set to 0.0 in labels with no predicted samples. Use `zero_division` parameter to control this behavior.\n",
      "  _warn_prf(average, modifier, f\"{metric.capitalize()} is\", len(result))\n",
      "C:\\Users\\20301207\\AppData\\Roaming\\Python\\Python311\\site-packages\\sklearn\\metrics\\_classification.py:1531: UndefinedMetricWarning: Precision is ill-defined and being set to 0.0 in labels with no predicted samples. Use `zero_division` parameter to control this behavior.\n",
      "  _warn_prf(average, modifier, f\"{metric.capitalize()} is\", len(result))\n",
      "C:\\Users\\20301207\\AppData\\Roaming\\Python\\Python311\\site-packages\\sklearn\\metrics\\_classification.py:1531: UndefinedMetricWarning: Precision is ill-defined and being set to 0.0 in labels with no predicted samples. Use `zero_division` parameter to control this behavior.\n",
      "  _warn_prf(average, modifier, f\"{metric.capitalize()} is\", len(result))\n",
      "C:\\Users\\20301207\\AppData\\Roaming\\Python\\Python311\\site-packages\\sklearn\\metrics\\_classification.py:1531: UndefinedMetricWarning: Precision is ill-defined and being set to 0.0 in labels with no predicted samples. Use `zero_division` parameter to control this behavior.\n",
      "  _warn_prf(average, modifier, f\"{metric.capitalize()} is\", len(result))\n",
      "C:\\Users\\20301207\\AppData\\Roaming\\Python\\Python311\\site-packages\\sklearn\\metrics\\_classification.py:1531: UndefinedMetricWarning: Precision is ill-defined and being set to 0.0 in labels with no predicted samples. Use `zero_division` parameter to control this behavior.\n",
      "  _warn_prf(average, modifier, f\"{metric.capitalize()} is\", len(result))\n",
      "C:\\Users\\20301207\\AppData\\Roaming\\Python\\Python311\\site-packages\\sklearn\\metrics\\_classification.py:1531: UndefinedMetricWarning: Precision is ill-defined and being set to 0.0 in labels with no predicted samples. Use `zero_division` parameter to control this behavior.\n",
      "  _warn_prf(average, modifier, f\"{metric.capitalize()} is\", len(result))\n",
      "C:\\Users\\20301207\\AppData\\Roaming\\Python\\Python311\\site-packages\\sklearn\\metrics\\_classification.py:1531: UndefinedMetricWarning: Precision is ill-defined and being set to 0.0 in labels with no predicted samples. Use `zero_division` parameter to control this behavior.\n",
      "  _warn_prf(average, modifier, f\"{metric.capitalize()} is\", len(result))\n",
      "C:\\Users\\20301207\\AppData\\Roaming\\Python\\Python311\\site-packages\\sklearn\\metrics\\_classification.py:1531: UndefinedMetricWarning: Precision is ill-defined and being set to 0.0 in labels with no predicted samples. Use `zero_division` parameter to control this behavior.\n",
      "  _warn_prf(average, modifier, f\"{metric.capitalize()} is\", len(result))\n",
      "C:\\Users\\20301207\\AppData\\Roaming\\Python\\Python311\\site-packages\\sklearn\\metrics\\_classification.py:1531: UndefinedMetricWarning: Precision is ill-defined and being set to 0.0 in labels with no predicted samples. Use `zero_division` parameter to control this behavior.\n",
      "  _warn_prf(average, modifier, f\"{metric.capitalize()} is\", len(result))\n"
     ]
    },
    {
     "name": "stdout",
     "output_type": "stream",
     "text": [
      "\n",
      "RandomForestClassifier - Validation Results\n",
      "[[330   0]\n",
      " [245   0]]\n",
      "Validation Accuracy: 0.5739130434782609\n",
      "Validation MCC: 0.0\n",
      "              precision    recall  f1-score   support\n",
      "\n",
      "           0       0.57      1.00      0.73       330\n",
      "           1       0.00      0.00      0.00       245\n",
      "\n",
      "    accuracy                           0.57       575\n",
      "   macro avg       0.29      0.50      0.36       575\n",
      "weighted avg       0.33      0.57      0.42       575\n",
      "\n",
      "\n",
      "RandomForestClassifier - Test Results\n",
      "[[171   0]\n",
      " [171   0]]\n",
      "Test Accuracy: 0.5\n",
      "Test MCC: 0.0\n",
      "              precision    recall  f1-score   support\n",
      "\n",
      "           0       0.50      1.00      0.67       171\n",
      "           1       0.00      0.00      0.00       171\n",
      "\n",
      "    accuracy                           0.50       342\n",
      "   macro avg       0.25      0.50      0.33       342\n",
      "weighted avg       0.25      0.50      0.33       342\n",
      "\n",
      "\n",
      "Training and Evaluating Gradient Boosting Model...\n"
     ]
    },
    {
     "name": "stderr",
     "output_type": "stream",
     "text": [
      "C:\\Users\\20301207\\AppData\\Roaming\\Python\\Python311\\site-packages\\sklearn\\metrics\\_classification.py:1531: UndefinedMetricWarning: Precision is ill-defined and being set to 0.0 in labels with no predicted samples. Use `zero_division` parameter to control this behavior.\n",
      "  _warn_prf(average, modifier, f\"{metric.capitalize()} is\", len(result))\n",
      "C:\\Users\\20301207\\AppData\\Roaming\\Python\\Python311\\site-packages\\sklearn\\metrics\\_classification.py:1531: UndefinedMetricWarning: Precision is ill-defined and being set to 0.0 in labels with no predicted samples. Use `zero_division` parameter to control this behavior.\n",
      "  _warn_prf(average, modifier, f\"{metric.capitalize()} is\", len(result))\n",
      "C:\\Users\\20301207\\AppData\\Roaming\\Python\\Python311\\site-packages\\sklearn\\metrics\\_classification.py:1531: UndefinedMetricWarning: Precision is ill-defined and being set to 0.0 in labels with no predicted samples. Use `zero_division` parameter to control this behavior.\n",
      "  _warn_prf(average, modifier, f\"{metric.capitalize()} is\", len(result))\n",
      "C:\\Users\\20301207\\AppData\\Roaming\\Python\\Python311\\site-packages\\sklearn\\metrics\\_classification.py:1531: UndefinedMetricWarning: Precision is ill-defined and being set to 0.0 in labels with no predicted samples. Use `zero_division` parameter to control this behavior.\n",
      "  _warn_prf(average, modifier, f\"{metric.capitalize()} is\", len(result))\n",
      "C:\\Users\\20301207\\AppData\\Roaming\\Python\\Python311\\site-packages\\sklearn\\metrics\\_classification.py:1531: UndefinedMetricWarning: Precision is ill-defined and being set to 0.0 in labels with no predicted samples. Use `zero_division` parameter to control this behavior.\n",
      "  _warn_prf(average, modifier, f\"{metric.capitalize()} is\", len(result))\n",
      "C:\\Users\\20301207\\AppData\\Roaming\\Python\\Python311\\site-packages\\sklearn\\metrics\\_classification.py:1531: UndefinedMetricWarning: Precision is ill-defined and being set to 0.0 in labels with no predicted samples. Use `zero_division` parameter to control this behavior.\n",
      "  _warn_prf(average, modifier, f\"{metric.capitalize()} is\", len(result))\n"
     ]
    },
    {
     "name": "stdout",
     "output_type": "stream",
     "text": [
      "\n",
      "GradientBoostingClassifier - Validation Results\n",
      "[[330   0]\n",
      " [245   0]]\n",
      "Validation Accuracy: 0.5739130434782609\n",
      "Validation MCC: 0.0\n",
      "              precision    recall  f1-score   support\n",
      "\n",
      "           0       0.57      1.00      0.73       330\n",
      "           1       0.00      0.00      0.00       245\n",
      "\n",
      "    accuracy                           0.57       575\n",
      "   macro avg       0.29      0.50      0.36       575\n",
      "weighted avg       0.33      0.57      0.42       575\n",
      "\n",
      "\n",
      "GradientBoostingClassifier - Test Results\n",
      "[[171   0]\n",
      " [171   0]]\n",
      "Test Accuracy: 0.5\n",
      "Test MCC: 0.0\n",
      "              precision    recall  f1-score   support\n",
      "\n",
      "           0       0.50      1.00      0.67       171\n",
      "           1       0.00      0.00      0.00       171\n",
      "\n",
      "    accuracy                           0.50       342\n",
      "   macro avg       0.25      0.50      0.33       342\n",
      "weighted avg       0.25      0.50      0.33       342\n",
      "\n"
     ]
    },
    {
     "name": "stderr",
     "output_type": "stream",
     "text": [
      "C:\\Users\\20301207\\AppData\\Roaming\\Python\\Python311\\site-packages\\sklearn\\metrics\\_classification.py:1531: UndefinedMetricWarning: Precision is ill-defined and being set to 0.0 in labels with no predicted samples. Use `zero_division` parameter to control this behavior.\n",
      "  _warn_prf(average, modifier, f\"{metric.capitalize()} is\", len(result))\n",
      "C:\\Users\\20301207\\AppData\\Roaming\\Python\\Python311\\site-packages\\sklearn\\metrics\\_classification.py:1531: UndefinedMetricWarning: Precision is ill-defined and being set to 0.0 in labels with no predicted samples. Use `zero_division` parameter to control this behavior.\n",
      "  _warn_prf(average, modifier, f\"{metric.capitalize()} is\", len(result))\n",
      "C:\\Users\\20301207\\AppData\\Roaming\\Python\\Python311\\site-packages\\sklearn\\metrics\\_classification.py:1531: UndefinedMetricWarning: Precision is ill-defined and being set to 0.0 in labels with no predicted samples. Use `zero_division` parameter to control this behavior.\n",
      "  _warn_prf(average, modifier, f\"{metric.capitalize()} is\", len(result))\n",
      "C:\\Users\\20301207\\AppData\\Roaming\\Python\\Python311\\site-packages\\sklearn\\metrics\\_classification.py:1531: UndefinedMetricWarning: Precision is ill-defined and being set to 0.0 in labels with no predicted samples. Use `zero_division` parameter to control this behavior.\n",
      "  _warn_prf(average, modifier, f\"{metric.capitalize()} is\", len(result))\n",
      "C:\\Users\\20301207\\AppData\\Roaming\\Python\\Python311\\site-packages\\sklearn\\metrics\\_classification.py:1531: UndefinedMetricWarning: Precision is ill-defined and being set to 0.0 in labels with no predicted samples. Use `zero_division` parameter to control this behavior.\n",
      "  _warn_prf(average, modifier, f\"{metric.capitalize()} is\", len(result))\n",
      "C:\\Users\\20301207\\AppData\\Roaming\\Python\\Python311\\site-packages\\sklearn\\metrics\\_classification.py:1531: UndefinedMetricWarning: Precision is ill-defined and being set to 0.0 in labels with no predicted samples. Use `zero_division` parameter to control this behavior.\n",
      "  _warn_prf(average, modifier, f\"{metric.capitalize()} is\", len(result))\n"
     ]
    }
   ],
   "source": [
    "\n",
    "# Apply SMOTE to handle class imbalance in training data\n",
    "smote = SMOTE(random_state=42)\n",
    "X_train_res, y_train_res = smote.fit_resample(X_train_tfidf, y_train)\n",
    "\n",
    "# Define function for model training and evaluation\n",
    "def train_and_evaluate_model(model, X_train, X_val, y_train, y_val, X_test, y_test):\n",
    "    # Train the model\n",
    "    model.fit(X_train, y_train)\n",
    "\n",
    "    # Predict on the validation set\n",
    "    y_val_pred = model.predict(X_val)\n",
    "    print(f\"\\n{model.__class__.__name__} - Validation Results\")\n",
    "    print(confusion_matrix(y_val, y_val_pred))\n",
    "    print(f\"Validation Accuracy: {accuracy_score(y_val, y_val_pred)}\")\n",
    "    print(f\"Validation MCC: {matthews_corrcoef(y_val, y_val_pred)}\")\n",
    "    print(classification_report(y_val, y_val_pred))\n",
    "\n",
    "    # Evaluate on test set\n",
    "    y_test_pred = model.predict(X_test)\n",
    "    print(f\"\\n{model.__class__.__name__} - Test Results\")\n",
    "    print(confusion_matrix(y_test, y_test_pred))\n",
    "    print(f\"Test Accuracy: {accuracy_score(y_test, y_test_pred)}\")\n",
    "    print(f\"Test MCC: {matthews_corrcoef(y_test, y_test_pred)}\")\n",
    "    print(classification_report(y_test, y_test_pred))\n",
    "\n",
    "# Initialize models\n",
    "best_svm = SVC(kernel='linear', C=1)\n",
    "naive_bayes = MultinomialNB()\n",
    "random_forest = RandomForestClassifier(n_estimators=100, random_state=42)\n",
    "gradient_boosting = GradientBoostingClassifier(n_estimators=100, random_state=42)\n",
    "\n",
    "# Train and evaluate models\n",
    "print(\"\\nTraining and Evaluating SVM Model...\")\n",
    "train_and_evaluate_model(best_svm, X_train_res, X_val_tfidf, y_train_res, y_val, X_test_tfidf, y_test)\n",
    "\n",
    "print(\"\\nTraining and Evaluating Naive Bayes Model...\")\n",
    "train_and_evaluate_model(naive_bayes, X_train_res, X_val_tfidf, y_train_res, y_val, X_test_tfidf, y_test)\n",
    "\n",
    "print(\"\\nTraining and Evaluating Random Forest Model...\")\n",
    "train_and_evaluate_model(random_forest, X_train_res, X_val_tfidf, y_train_res, y_val, X_test_tfidf, y_test)\n",
    "\n",
    "print(\"\\nTraining and Evaluating Gradient Boosting Model...\")\n",
    "train_and_evaluate_model(gradient_boosting, X_train_res, X_val_tfidf, y_train_res, y_val, X_test_tfidf, y_test)\n"
   ]
  },
  {
   "cell_type": "code",
   "execution_count": null,
   "id": "2d57eb9f-087b-470d-a5d8-c27c60a5f324",
   "metadata": {},
   "outputs": [],
   "source": []
  }
 ],
 "metadata": {
  "kernelspec": {
   "display_name": "Python 3 (ipykernel)",
   "language": "python",
   "name": "python3"
  },
  "language_info": {
   "codemirror_mode": {
    "name": "ipython",
    "version": 3
   },
   "file_extension": ".py",
   "mimetype": "text/x-python",
   "name": "python",
   "nbconvert_exporter": "python",
   "pygments_lexer": "ipython3",
   "version": "3.11.7"
  }
 },
 "nbformat": 4,
 "nbformat_minor": 5
}
