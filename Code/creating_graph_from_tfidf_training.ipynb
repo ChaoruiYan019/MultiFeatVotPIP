{
 "cells": [
  {
   "cell_type": "code",
   "execution_count": 1,
   "id": "590d19ce-3978-48fd-8d45-4f5c7b872c82",
   "metadata": {},
   "outputs": [],
   "source": [
    "import pandas as pd\n",
    "\n",
    "# Load datasets\n",
    "X_train = pd.read_csv(\"X_train.csv\")  # Peptide sequences\n",
    "train_labels = pd.read_csv(\"label_train.csv\")  # Corresponding labels\n",
    "\n",
    "# Combine features and labels\n",
    "train_data = pd.concat([X_train, train_labels], axis=1)\n",
    "train_data.columns = ['peptide_sequence', 'label']\n",
    "\n",
    "# Load test data\n",
    "X_test = pd.read_csv(\"X_test.csv\")\n",
    "test_labels = pd.read_csv(\"label_test.csv\")\n",
    "test_data = pd.concat([X_test, test_labels], axis=1)\n",
    "test_data.columns = ['peptide_sequence', 'label']"
   ]
  },
  {
   "cell_type": "code",
   "execution_count": 2,
   "id": "b5b9c8b3-1c5c-44c0-8558-894c615b4465",
   "metadata": {},
   "outputs": [
    {
     "data": {
      "text/html": [
       "<div>\n",
       "<style scoped>\n",
       "    .dataframe tbody tr th:only-of-type {\n",
       "        vertical-align: middle;\n",
       "    }\n",
       "\n",
       "    .dataframe tbody tr th {\n",
       "        vertical-align: top;\n",
       "    }\n",
       "\n",
       "    .dataframe thead th {\n",
       "        text-align: right;\n",
       "    }\n",
       "</style>\n",
       "<table border=\"1\" class=\"dataframe\">\n",
       "  <thead>\n",
       "    <tr style=\"text-align: right;\">\n",
       "      <th></th>\n",
       "      <th>peptide_sequence</th>\n",
       "      <th>label</th>\n",
       "    </tr>\n",
       "  </thead>\n",
       "  <tbody>\n",
       "    <tr>\n",
       "      <th>0</th>\n",
       "      <td>DDRHKIVNVDQRQYG</td>\n",
       "      <td>1</td>\n",
       "    </tr>\n",
       "    <tr>\n",
       "      <th>1</th>\n",
       "      <td>EGNRPTNSIVFTKLT</td>\n",
       "      <td>1</td>\n",
       "    </tr>\n",
       "    <tr>\n",
       "      <th>2</th>\n",
       "      <td>TRQGGYSNDNTVIFR</td>\n",
       "      <td>1</td>\n",
       "    </tr>\n",
       "    <tr>\n",
       "      <th>3</th>\n",
       "      <td>LHGETFPYTAFDNNC</td>\n",
       "      <td>1</td>\n",
       "    </tr>\n",
       "    <tr>\n",
       "      <th>4</th>\n",
       "      <td>VMALEPVVGAAIAAP</td>\n",
       "      <td>1</td>\n",
       "    </tr>\n",
       "  </tbody>\n",
       "</table>\n",
       "</div>"
      ],
      "text/plain": [
       "  peptide_sequence  label\n",
       "0  DDRHKIVNVDQRQYG      1\n",
       "1  EGNRPTNSIVFTKLT      1\n",
       "2  TRQGGYSNDNTVIFR      1\n",
       "3  LHGETFPYTAFDNNC      1\n",
       "4  VMALEPVVGAAIAAP      1"
      ]
     },
     "execution_count": 2,
     "metadata": {},
     "output_type": "execute_result"
    }
   ],
   "source": [
    "train_data.head()"
   ]
  },
  {
   "cell_type": "code",
   "execution_count": 3,
   "id": "6046e91e-5dce-4ec8-9948-c55077e1ef23",
   "metadata": {},
   "outputs": [
    {
     "data": {
      "text/html": [
       "<div>\n",
       "<style scoped>\n",
       "    .dataframe tbody tr th:only-of-type {\n",
       "        vertical-align: middle;\n",
       "    }\n",
       "\n",
       "    .dataframe tbody tr th {\n",
       "        vertical-align: top;\n",
       "    }\n",
       "\n",
       "    .dataframe thead th {\n",
       "        text-align: right;\n",
       "    }\n",
       "</style>\n",
       "<table border=\"1\" class=\"dataframe\">\n",
       "  <thead>\n",
       "    <tr style=\"text-align: right;\">\n",
       "      <th></th>\n",
       "      <th>peptide_sequence</th>\n",
       "      <th>label</th>\n",
       "    </tr>\n",
       "  </thead>\n",
       "  <tbody>\n",
       "    <tr>\n",
       "      <th>0</th>\n",
       "      <td>TPETLFEIGSVSKTFTAT</td>\n",
       "      <td>1</td>\n",
       "    </tr>\n",
       "    <tr>\n",
       "      <th>1</th>\n",
       "      <td>HPGNTILHVDTIYNRPSNTT</td>\n",
       "      <td>1</td>\n",
       "    </tr>\n",
       "    <tr>\n",
       "      <th>2</th>\n",
       "      <td>YWAGIEFDVTHKGMALLHRL</td>\n",
       "      <td>1</td>\n",
       "    </tr>\n",
       "    <tr>\n",
       "      <th>3</th>\n",
       "      <td>EQGLLYMPQELAVSD</td>\n",
       "      <td>1</td>\n",
       "    </tr>\n",
       "    <tr>\n",
       "      <th>4</th>\n",
       "      <td>GARGFFQARHLEMDA</td>\n",
       "      <td>1</td>\n",
       "    </tr>\n",
       "  </tbody>\n",
       "</table>\n",
       "</div>"
      ],
      "text/plain": [
       "       peptide_sequence  label\n",
       "0    TPETLFEIGSVSKTFTAT      1\n",
       "1  HPGNTILHVDTIYNRPSNTT      1\n",
       "2  YWAGIEFDVTHKGMALLHRL      1\n",
       "3       EQGLLYMPQELAVSD      1\n",
       "4       GARGFFQARHLEMDA      1"
      ]
     },
     "execution_count": 3,
     "metadata": {},
     "output_type": "execute_result"
    }
   ],
   "source": [
    "test_data.head()"
   ]
  },
  {
   "cell_type": "code",
   "execution_count": 4,
   "id": "bccefbc1-e0b5-4828-bc8d-161f9e0c6dca",
   "metadata": {},
   "outputs": [],
   "source": [
    "import joblib\n",
    "import pandas as pd\n",
    "from sklearn.preprocessing import LabelEncoder\n",
    "\n",
    "# Load the TF-IDF matrices\n",
    "X_train_tfidf = joblib.load('X_train_tfidf.pkl')\n",
    "X_test_tfidf = joblib.load('X_test_tfidf.pkl')\n",
    "\n",
    "\n",
    "# Convert TF-IDF matrix to dense numpy array\n",
    "X_train_dense = X_train_tfidf.toarray()\n",
    "X_test_dense = X_test_tfidf.toarray()\n",
    "\n",
    "# Preprocess labels using LabelEncoder\n",
    "label_encoder = LabelEncoder()\n",
    "y_train = label_encoder.fit_transform(train_data['label'])"
   ]
  },
  {
   "cell_type": "code",
   "execution_count": 5,
   "id": "9d5a966d-e1dd-4caf-9ed2-f797822e4303",
   "metadata": {},
   "outputs": [
    {
     "name": "stdout",
     "output_type": "stream",
     "text": [
      "Data(x=[2872, 2872], edge_index=[2, 2872], y=[2872])\n"
     ]
    }
   ],
   "source": [
    "import numpy as np\n",
    "from sklearn.metrics.pairwise import cosine_similarity\n",
    "import torch\n",
    "from torch_geometric.data import Data\n",
    "\n",
    "# Compute cosine similarity between documents (nodes)\n",
    "similarity_matrix = cosine_similarity(X_train_dense)\n",
    "\n",
    "# Define a threshold for edge creation (you can adjust this value)\n",
    "threshold = 0.7\n",
    "\n",
    "# Create edge indices based on cosine similarity > threshold\n",
    "edge_index = np.array(np.where(similarity_matrix > threshold))\n",
    "edge_index = torch.tensor(edge_index, dtype=torch.long)\n",
    "\n",
    "# Convert TF-IDF dense matrix to PyTorch tensor\n",
    "X_train_tensor = torch.tensor(X_train_dense, dtype=torch.float)\n",
    "\n",
    "# Convert labels to PyTorch tensor\n",
    "y_train_tensor = torch.tensor(y_train, dtype=torch.long)\n",
    "\n",
    "# Create a PyTorch Geometric Data object\n",
    "data = Data(x=X_train_tensor, edge_index=edge_index, y=y_train_tensor)\n",
    "\n",
    "# Check the structure of the data object\n",
    "print(data)"
   ]
  },
  {
   "cell_type": "markdown",
   "id": "f2eab95e-56ff-431f-bb85-1effa1f6d3cc",
   "metadata": {},
   "source": [
    "# Define the GNN Model"
   ]
  },
  {
   "cell_type": "code",
   "execution_count": 6,
   "id": "3dcbbc16-6f0e-47a1-b808-f50fc79279ab",
   "metadata": {},
   "outputs": [],
   "source": [
    "import torch\n",
    "from torch_geometric.nn import GCNConv\n",
    "import torch.nn.functional as F\n",
    "\n",
    "class GNN(torch.nn.Module):\n",
    "    def __init__(self, input_dim, hidden_dim, output_dim):\n",
    "        super(GNN, self).__init__()\n",
    "        self.conv1 = GCNConv(input_dim, hidden_dim)\n",
    "        self.conv2 = GCNConv(hidden_dim, output_dim)\n",
    "\n",
    "    def forward(self, data):\n",
    "        x, edge_index = data.x, data.edge_index\n",
    "        x = self.conv1(x, edge_index).relu()  # First GCN layer with ReLU activation\n",
    "        x = self.conv2(x, edge_index)  # Second GCN layer\n",
    "        return F.log_softmax(x, dim=1)  # Softmax for multi-class classification"
   ]
  },
  {
   "cell_type": "code",
   "execution_count": 7,
   "id": "eff55ef8-b1fe-476b-94d6-cb676469eef0",
   "metadata": {},
   "outputs": [],
   "source": [
    "# Define input, hidden, and output dimensions\n",
    "input_dim = X_train_tensor.shape[1]  # The number of features per node (TF-IDF size)\n",
    "hidden_dim = 64  # Hidden layer size (tune this)\n",
    "output_dim = len(label_encoder.classes_)  # Number of unique classes\n",
    "\n",
    "# Instantiate the model\n",
    "model = GNN(input_dim, hidden_dim, output_dim)\n",
    "\n",
    "# Define optimizer (Adam optimizer is commonly used)\n",
    "optimizer = torch.optim.Adam(model.parameters(), lr=0.01)\n",
    "\n",
    "# Define loss function (CrossEntropyLoss for classification)\n",
    "loss_fn = torch.nn.CrossEntropyLoss()"
   ]
  },
  {
   "cell_type": "code",
   "execution_count": 8,
   "id": "07b93050-3072-40e4-9d6b-9f28d7ffa735",
   "metadata": {},
   "outputs": [],
   "source": [
    "# Early stopping parameters\n",
    "patience = 10  # Number of epochs to wait for improvement before stopping\n",
    "best_val_loss = float('inf')  # Initialize best validation loss as infinity\n",
    "epochs_without_improvement = 0  # Counter to track epochs without improvement"
   ]
  },
  {
   "cell_type": "markdown",
   "id": "fa6caf5e-f18b-4476-a35a-500ec7e27e5b",
   "metadata": {},
   "source": [
    "# Training Loop"
   ]
  },
  {
   "cell_type": "code",
   "execution_count": 9,
   "id": "9b7a7094-d658-4528-8960-10b93e9f5a2c",
   "metadata": {},
   "outputs": [
    {
     "name": "stdout",
     "output_type": "stream",
     "text": [
      "Epoch 0/100, Loss: 0.6913, Accuracy: 55.29%\n",
      "Epoch 10/100, Loss: 0.2124, Accuracy: 100.00%\n",
      "Epoch 20/100, Loss: 0.0115, Accuracy: 100.00%\n",
      "Epoch 30/100, Loss: 0.0010, Accuracy: 100.00%\n",
      "Epoch 40/100, Loss: 0.0003, Accuracy: 100.00%\n",
      "Epoch 50/100, Loss: 0.0002, Accuracy: 100.00%\n",
      "Epoch 60/100, Loss: 0.0001, Accuracy: 100.00%\n",
      "Epoch 70/100, Loss: 0.0001, Accuracy: 100.00%\n",
      "Epoch 80/100, Loss: 0.0001, Accuracy: 100.00%\n",
      "Epoch 90/100, Loss: 0.0001, Accuracy: 100.00%\n"
     ]
    }
   ],
   "source": [
    "import matplotlib.pyplot as plt\n",
    "\n",
    "# Lists to store loss and accuracy values for plotting\n",
    "train_losses = []\n",
    "accuracies = []\n",
    "\n",
    "# Training loop\n",
    "num_epochs = 100  # Set the number of epochs for training\n",
    "for epoch in range(num_epochs):\n",
    "    model.train()  # Set the model to training mode\n",
    "    optimizer.zero_grad()  # Clear the gradients\n",
    "\n",
    "    # Forward pass\n",
    "    out = model(data)  # Pass data through the model\n",
    "    loss = loss_fn(out, data.y)  # Calculate the loss\n",
    "\n",
    "    # Backward pass and optimization\n",
    "    loss.backward()  # Backpropagation\n",
    "    optimizer.step()  # Update model weights\n",
    "\n",
    "    # Track the loss\n",
    "    train_losses.append(loss.item())\n",
    "\n",
    "    # Calculate accuracy\n",
    "    _, predicted_labels = out.max(dim=1)  # Get the index of the class with the highest score\n",
    "    correct = (predicted_labels == data.y).sum().item()  # Count correct predictions\n",
    "    accuracy = correct / data.num_nodes  # Accuracy for node classification\n",
    "    accuracies.append(accuracy)\n",
    "\n",
    "    # Print the loss and accuracy every 10 epochs\n",
    "    if epoch % 10 == 0:\n",
    "        print(f\"Epoch {epoch}/{num_epochs}, Loss: {loss.item():.4f}, Accuracy: {accuracy * 100:.2f}%\")"
   ]
  },
  {
   "cell_type": "code",
   "execution_count": 10,
   "id": "85c4ab8f-3acc-4270-ba4d-57433557c857",
   "metadata": {},
   "outputs": [
    {
     "data": {
      "image/png": "[encoded data removed]",
      "text/plain": [
       "<Figure size 1000x800 with 2 Axes>"
      ]
     },
     "metadata": {},
     "output_type": "display_data"
    }
   ],
   "source": [
    "# Plot training loss and accuracy\n",
    "fig, ax = plt.subplots(2, 1, figsize=(10, 8))\n",
    "\n",
    "# Plot the training loss\n",
    "ax[0].plot(range(num_epochs), train_losses, label='Training Loss', color='blue')\n",
    "ax[0].set_xlabel('Epochs')\n",
    "ax[0].set_ylabel('Loss')\n",
    "ax[0].set_title('Training Loss Over Epochs')\n",
    "ax[0].legend()\n",
    "\n",
    "# Plot the training accuracy\n",
    "ax[1].plot(range(num_epochs), accuracies, label='Training Accuracy', color='green')\n",
    "ax[1].set_xlabel('Epochs')\n",
    "ax[1].set_ylabel('Accuracy')\n",
    "ax[1].set_title('Training Accuracy Over Epochs')\n",
    "ax[1].legend()\n",
    "\n",
    "plt.tight_layout()\n",
    "plt.show()"
   ]
  },
  {
   "cell_type": "code",
   "execution_count": 11,
   "id": "35c81f71-3992-4641-b16a-db02a2050813",
   "metadata": {},
   "outputs": [],
   "source": [
    "import matplotlib.pyplot as plt\n",
    "import seaborn as sns\n",
    "from sklearn.metrics import confusion_matrix\n",
    "import torch"
   ]
  },
  {
   "cell_type": "code",
   "execution_count": 12,
   "id": "fa7f7107-bcc9-40be-8383-ef1f9596f7df",
   "metadata": {},
   "outputs": [
    {
     "name": "stdout",
     "output_type": "stream",
     "text": [
      "[[1627    0]\n",
      " [   0 1245]]\n"
     ]
    }
   ],
   "source": [
    "# Evaluate the model\n",
    "model.eval()  # Set the model to evaluation mode\n",
    "\n",
    "# Forward pass on training data or test data (using 'data' object here for simplicity)\n",
    "out = model(data)\n",
    "\n",
    "# Get the predicted class labels\n",
    "_, predicted_labels = out.max(dim=1)\n",
    "\n",
    "# Calculate the confusion matrix\n",
    "cm = confusion_matrix(data.y.cpu().numpy(), predicted_labels.cpu().numpy())  # Move to CPU if needed\n",
    "print(cm)"
   ]
  },
  {
   "cell_type": "code",
   "execution_count": 13,
   "id": "fe6903e8-2bf8-4d23-8ac4-ae6b9cdb4b2a",
   "metadata": {},
   "outputs": [
    {
     "data": {
      "image/png": "[encoded data removed]",
      "text/plain": [
       "<Figure size 800x600 with 2 Axes>"
      ]
     },
     "metadata": {},
     "output_type": "display_data"
    }
   ],
   "source": [
    "# Plotting the confusion matrix using Seaborn heatmap\n",
    "plt.figure(figsize=(8, 6))\n",
    "sns.heatmap(cm, annot=True, fmt='d', cmap='Blues', xticklabels=label_encoder.classes_, yticklabels=label_encoder.classes_)\n",
    "plt.xlabel('Predicted Labels')\n",
    "plt.ylabel('True Labels')\n",
    "plt.title('Confusion Matrix')\n",
    "plt.show()"
   ]
  },
  {
   "cell_type": "code",
   "execution_count": 14,
   "id": "7e8adcd3-eff8-4a83-8b38-71ab5827af20",
   "metadata": {},
   "outputs": [],
   "source": [
    "from sklearn.metrics import matthews_corrcoef\n",
    "import torch"
   ]
  },
  {
   "cell_type": "code",
   "execution_count": 15,
   "id": "39a42511-f579-498c-9ef0-b8a5f5d1e0af",
   "metadata": {},
   "outputs": [],
   "source": [
    "# Forward pass on training data or test data\n",
    "model.eval()  # Set the model to evaluation mode\n",
    "out = model(data)\n",
    "\n",
    "# Get the predicted class labels\n",
    "_, predicted_labels = out.max(dim=1)"
   ]
  },
  {
   "cell_type": "code",
   "execution_count": 16,
   "id": "60347aa2-e827-4617-b4f4-073ecc572576",
   "metadata": {},
   "outputs": [
    {
     "name": "stdout",
     "output_type": "stream",
     "text": [
      "Matthews Correlation Coefficient (MCC): 1.0000\n"
     ]
    }
   ],
   "source": [
    "# Calculate the Matthews Correlation Coefficient (MCC)\n",
    "mcc = matthews_corrcoef(data.y.cpu().numpy(), predicted_labels.cpu().numpy())\n",
    "print(f'Matthews Correlation Coefficient (MCC): {mcc:.4f}')"
   ]
  },
  {
   "cell_type": "code",
   "execution_count": 17,
   "id": "fa866aea-8834-4c86-9b5c-fcebf392c145",
   "metadata": {},
   "outputs": [
    {
     "data": {
      "text/plain": [
       "GNN(\n",
       "  (conv1): GCNConv(2872, 64)\n",
       "  (conv2): GCNConv(64, 2)\n",
       ")"
      ]
     },
     "execution_count": 17,
     "metadata": {},
     "output_type": "execute_result"
    }
   ],
   "source": [
    "# Set model to evaluation mode\n",
    "model.eval()"
   ]
  },
  {
   "cell_type": "markdown",
   "id": "675d4fdb-3732-4548-9564-4ac8bbefff4d",
   "metadata": {},
   "source": [
    "# Test"
   ]
  },
  {
   "cell_type": "code",
   "execution_count": 19,
   "id": "66bc8e31-ac1d-4398-a45f-7ca31fdfd09c",
   "metadata": {},
   "outputs": [],
   "source": [
    "from sklearn.feature_extraction.text import TfidfVectorizer\n",
    "tfidf_vectorizer = TfidfVectorizer()\n",
    "X_train_tfidf = tfidf_vectorizer.fit_transform(train_data['peptide_sequence'])  # Fit on the training data\n",
    "\n",
    "# Now you can use the same vectorizer to transform the test data\n",
    "X_test_tfidf = tfidf_vectorizer.transform(test_data['peptide_sequence'])  # Transform the test data"
   ]
  },
  {
   "cell_type": "code",
   "execution_count": 20,
   "id": "2b6734e8-87ac-427c-a525-2f6c9a1a520b",
   "metadata": {},
   "outputs": [
    {
     "data": {
      "text/plain": [
       "['tfidf_vectorizer.pkl']"
      ]
     },
     "execution_count": 20,
     "metadata": {},
     "output_type": "execute_result"
    }
   ],
   "source": [
    "import joblib\n",
    "\n",
    "# Save the fitted vectorizer to a file\n",
    "joblib.dump(tfidf_vectorizer, 'tfidf_vectorizer.pkl')"
   ]
  },
  {
   "cell_type": "code",
   "execution_count": 21,
   "id": "9728a0ec-bb38-4f3e-8ee7-f6f78d722f97",
   "metadata": {},
   "outputs": [],
   "source": [
    "# Load the fitted vectorizer from the saved file\n",
    "tfidf_vectorizer = joblib.load('tfidf_vectorizer.pkl')\n",
    "\n",
    "# Now transform the test data\n",
    "X_test_tfidf = tfidf_vectorizer.transform(test_data['peptide_sequence'])"
   ]
  },
  {
   "cell_type": "code",
   "execution_count": 22,
   "id": "347cd0c8-bfd1-4270-bc7d-bf16857ca7d1",
   "metadata": {},
   "outputs": [],
   "source": [
    "import torch\n",
    "\n",
    "# Convert the TF-IDF matrix to a PyTorch tensor\n",
    "X_test_tensor = torch.tensor(X_test_tfidf.toarray(), dtype=torch.float)\n",
    "\n",
    "# Assuming you have labels for the test data, convert them to a tensor\n",
    "y_test_tensor = torch.tensor(label_encoder.transform(test_data['label']), dtype=torch.long)"
   ]
  },
  {
   "cell_type": "code",
   "execution_count": 27,
   "id": "765081a0-b855-4706-8360-46e5f2433a0c",
   "metadata": {},
   "outputs": [],
   "source": [
    "# Assuming edge_index from training is valid for test data as well\n",
    "test_edge_index = edge_index  # Use the same edge index if the structure is the same\n",
    "\n",
    "# Alternatively, if you need to create a new edge_index for the test data, make sure it is correctly formed\n",
    "# Example: edge_index for test_data (make sure it matches the graph structure for test data)\n",
    "test_edge_index = torch.tensor([[0, 1], [1, 2]], dtype=torch.long)  # Example edge index for test"
   ]
  },
  {
   "cell_type": "code",
   "execution_count": 28,
   "id": "27f1fa74-8741-4d94-b50e-a07b8fd06442",
   "metadata": {},
   "outputs": [
    {
     "name": "stdout",
     "output_type": "stream",
     "text": [
      "Test Accuracy: 0.5000\n"
     ]
    }
   ],
   "source": [
    "# Create a Data object for the test data\n",
    "test_data = Data(x=X_test_tensor, edge_index=test_edge_index, y=y_test_tensor)\n",
    "\n",
    "# Set the model to evaluation mode\n",
    "model.eval()\n",
    "\n",
    "# Make predictions on the test data\n",
    "with torch.no_grad():\n",
    "    test_out = model(test_data)\n",
    "\n",
    "# Get the predicted class for each node\n",
    "_, predicted_labels = test_out.max(dim=1)\n",
    "\n",
    "# Evaluate the model on the test data\n",
    "correct = (predicted_labels == test_data.y).sum().item()\n",
    "accuracy = correct / test_data.y.size(0)\n",
    "print(f\"Test Accuracy: {accuracy:.4f}\")"
   ]
  },
  {
   "cell_type": "code",
   "execution_count": 29,
   "id": "61757c9d-715c-417d-afed-e67251cb5fbd",
   "metadata": {},
   "outputs": [
    {
     "name": "stdout",
     "output_type": "stream",
     "text": [
      "Matthews Correlation Coefficient (MCC): 0.0000\n"
     ]
    }
   ],
   "source": [
    "from sklearn.metrics import matthews_corrcoef\n",
    "\n",
    "# Ensure the predicted labels and true labels are in the correct format\n",
    "predicted_labels = predicted_labels.cpu().numpy()  # Convert to numpy array if they are in tensor form\n",
    "true_labels = test_data.y.cpu().numpy()  # Convert to numpy array if they are in tensor form\n",
    "\n",
    "# Compute the Matthews correlation coefficient (MCC)\n",
    "mcc = matthews_corrcoef(true_labels, predicted_labels)\n",
    "\n",
    "print(f\"Matthews Correlation Coefficient (MCC): {mcc:.4f}\")"
   ]
  },
  {
   "cell_type": "code",
   "execution_count": null,
   "id": "13550e55-0996-462e-b580-f170b7035628",
   "metadata": {},
   "outputs": [],
   "source": []
  }
 ],
 "metadata": {
  "kernelspec": {
   "display_name": "Python 3 (ipykernel)",
   "language": "python",
   "name": "python3"
  },
  "language_info": {
   "codemirror_mode": {
    "name": "ipython",
    "version": 3
   },
   "file_extension": ".py",
   "mimetype": "text/x-python",
   "name": "python",
   "nbconvert_exporter": "python",
   "pygments_lexer": "ipython3",
   "version": "3.11.7"
  }
 },
 "nbformat": 4,
 "nbformat_minor": 5
}
